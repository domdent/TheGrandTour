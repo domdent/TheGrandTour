{
 "cells": [
  {
   "cell_type": "code",
   "execution_count": 4,
   "metadata": {},
   "outputs": [
    {
     "name": "stdout",
     "output_type": "stream",
     "text": [
      "Requirement already satisfied: tensorflow in /Users/academic/Library/Python/2.7/lib/python/site-packages (1.12.0)\n",
      "Requirement already satisfied: enum34>=1.1.6 in /Users/academic/Library/Python/2.7/lib/python/site-packages (from tensorflow) (1.1.6)\n",
      "Requirement already satisfied: keras-preprocessing>=1.0.5 in /Users/academic/Library/Python/2.7/lib/python/site-packages (from tensorflow) (1.0.5)\n",
      "Requirement already satisfied: wheel in /Users/academic/Library/Python/2.7/lib/python/site-packages (from tensorflow) (0.32.2)\n",
      "Requirement already satisfied: astor>=0.6.0 in /Users/academic/Library/Python/2.7/lib/python/site-packages (from tensorflow) (0.7.1)\n",
      "Requirement already satisfied: backports.weakref>=1.0rc1 in /Users/academic/Library/Python/2.7/lib/python/site-packages (from tensorflow) (1.0.post1)\n",
      "Requirement already satisfied: mock>=2.0.0 in /Users/academic/Library/Python/2.7/lib/python/site-packages (from tensorflow) (2.0.0)\n",
      "Requirement already satisfied: tensorboard<1.13.0,>=1.12.0 in /Users/academic/Library/Python/2.7/lib/python/site-packages (from tensorflow) (1.12.0)\n",
      "Requirement already satisfied: termcolor>=1.1.0 in /Users/academic/Library/Python/2.7/lib/python/site-packages (from tensorflow) (1.1.0)\n",
      "Requirement already satisfied: protobuf>=3.6.1 in /Users/academic/Library/Python/2.7/lib/python/site-packages (from tensorflow) (3.6.1)\n",
      "Requirement already satisfied: gast>=0.2.0 in /Users/academic/Library/Python/2.7/lib/python/site-packages (from tensorflow) (0.2.0)\n",
      "Requirement already satisfied: absl-py>=0.1.6 in /Users/academic/Library/Python/2.7/lib/python/site-packages (from tensorflow) (0.6.1)\n",
      "Requirement already satisfied: grpcio>=1.8.6 in /Users/academic/Library/Python/2.7/lib/python/site-packages (from tensorflow) (1.16.1)\n",
      "Requirement already satisfied: six>=1.10.0 in /Users/academic/Library/Python/2.7/lib/python/site-packages (from tensorflow) (1.11.0)\n",
      "Requirement already satisfied: keras-applications>=1.0.6 in /Users/academic/Library/Python/2.7/lib/python/site-packages (from tensorflow) (1.0.6)\n",
      "Requirement already satisfied: numpy>=1.13.3 in /Users/academic/Library/Python/2.7/lib/python/site-packages (from tensorflow) (1.15.4)\n",
      "Requirement already satisfied: funcsigs>=1; python_version < \"3.3\" in /Users/academic/Library/Python/2.7/lib/python/site-packages (from mock>=2.0.0->tensorflow) (1.0.2)\n",
      "Requirement already satisfied: pbr>=0.11 in /Users/academic/Library/Python/2.7/lib/python/site-packages (from mock>=2.0.0->tensorflow) (5.1.1)\n",
      "Requirement already satisfied: futures>=3.1.1; python_version < \"3\" in /Users/academic/Library/Python/2.7/lib/python/site-packages (from tensorboard<1.13.0,>=1.12.0->tensorflow) (3.2.0)\n",
      "Requirement already satisfied: werkzeug>=0.11.10 in /Users/academic/Library/Python/2.7/lib/python/site-packages (from tensorboard<1.13.0,>=1.12.0->tensorflow) (0.14.1)\n",
      "Requirement already satisfied: markdown>=2.6.8 in /Users/academic/Library/Python/2.7/lib/python/site-packages (from tensorboard<1.13.0,>=1.12.0->tensorflow) (3.0.1)\n",
      "Requirement already satisfied: setuptools in /System/Library/Frameworks/Python.framework/Versions/2.7/Extras/lib/python (from protobuf>=3.6.1->tensorflow) (18.5)\n",
      "Requirement already satisfied: h5py in /Users/academic/Library/Python/2.7/lib/python/site-packages (from keras-applications>=1.0.6->tensorflow) (2.8.0)\n"
     ]
    }
   ],
   "source": [
    "!pip install tensorflow"
   ]
  },
  {
   "cell_type": "code",
   "execution_count": 5,
   "metadata": {},
   "outputs": [
    {
     "ename": "ModuleNotFoundError",
     "evalue": "No module named 'tensorflow'",
     "output_type": "error",
     "traceback": [
      "\u001b[0;31m---------------------------------------------------------------------------\u001b[0m",
      "\u001b[0;31mModuleNotFoundError\u001b[0m                       Traceback (most recent call last)",
      "\u001b[0;32m<ipython-input-5-d6579f534729>\u001b[0m in \u001b[0;36m<module>\u001b[0;34m()\u001b[0m\n\u001b[0;32m----> 1\u001b[0;31m \u001b[0;32mimport\u001b[0m \u001b[0mtensorflow\u001b[0m\u001b[0;34m\u001b[0m\u001b[0m\n\u001b[0m",
      "\u001b[0;31mModuleNotFoundError\u001b[0m: No module named 'tensorflow'"
     ]
    }
   ],
   "source": [
    "import tensorflow"
   ]
  },
  {
   "cell_type": "code",
   "execution_count": null,
   "metadata": {},
   "outputs": [],
   "source": []
  }
 ],
 "metadata": {
  "kernelspec": {
   "display_name": "Python 3",
   "language": "python",
   "name": "python3"
  },
  "language_info": {
   "codemirror_mode": {
    "name": "ipython",
    "version": 3
   },
   "file_extension": ".py",
   "mimetype": "text/x-python",
   "name": "python",
   "nbconvert_exporter": "python",
   "pygments_lexer": "ipython3",
   "version": "3.6.5"
  }
 },
 "nbformat": 4,
 "nbformat_minor": 2
}
