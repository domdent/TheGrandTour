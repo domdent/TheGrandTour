{
 "cells": [
  {
   "cell_type": "code",
   "execution_count": 37,
   "metadata": {},
   "outputs": [],
   "source": [
    "import numpy as np\n",
    "import pandas as pd\n",
    "import time\n",
    "import sklearn\n",
    "import tensorflow as tf\n",
    "import tensorflow.keras as keras\n",
    "import matplotlib.pyplot as plt\n",
    "%matplotlib inline\n",
    "\n",
    "\n",
    "readdata = pd.read_csv(\"/home/dom/Documents/MPhys/TheGrandTour/wine_data.txt\", sep=\"\\t\", header=None);\n",
    "data = np.array(readdata);\n",
    "data = np.delete(data, 0, 0)\n",
    "data = data.astype(float)\n",
    "data = np.swapaxes(data,0,1)\n",
    "\n",
    "\n",
    "# Need to seperate the classification dimension:\n",
    "classification = data[13]\n",
    "data = np.delete(data, 13, axis=0)\n",
    "\n",
    "\n",
    "# make list of colours for each number:\n",
    "data_colour = []\n",
    "data_marker = []\n",
    "for i in range(len(classification)):\n",
    "    if classification[i] == 1:\n",
    "        data_colour.append(\"r\")\n",
    "        data_marker.append(\"x\")\n",
    "    elif classification[i] == 2:\n",
    "        data_colour.append(\"b\")\n",
    "        data_marker.append(\"o\")\n",
    "    elif classification[i] == 3:\n",
    "        data_colour.append(\"g\")\n",
    "        data_marker.append(\"*\")\n",
    "        \n",
    "# Normalizes the data        \n",
    "for i in range(0, np.shape(data)[0]):\n",
    "    data[i,:] = (data[i,:] / np.ndarray.max(data[i,:])) * 2 - 1\n",
    "    \n",
    "        \n",
    "\n",
    "\n",
    "#VARIABLES\n",
    "stepSize = 0.01\n",
    "nSteps = 10000\n",
    "\n",
    "def getAlpha(d):\n",
    "    \"\"\"\n",
    "    NEEDS IMPLEMENTATION\n",
    "    Should produce 1xd(d-1)/2 array of position in grand tour.\n",
    "    \"\"\"\n",
    "    p = d*(d-1)/2     \n",
    "    primeList = []\n",
    "    count = 1\n",
    "    while len(primeList) < p:\n",
    "        count += 1\n",
    "        primeBool = False\n",
    "        for i in range(2, count - 1):\n",
    "            if count % i == 0:\n",
    "                primeBool = True\n",
    "        if primeBool == False:\n",
    "            irrational = (np.sqrt(count)%1)\n",
    "            primeList.append(irrational)\n",
    "            \n",
    "    primeList = np.asarray(primeList)\n",
    "    primeList = primeList.dot(stepSize)\n",
    "    \"\"\"\n",
    "    Irrational number generation using exponentials, not being used\n",
    "    p = int(d*(d-1)/2)\n",
    "    alpha = np.zeros(p) #alpha(t) parameters defining grand tour in G2,d\n",
    "    for i in range(0,p):\n",
    "        alpha[i] = (np.exp(i) % 1) * 2 * np.pi\n",
    "        \n",
    "    alpha = alpha.dot(0.001)\n",
    "    \"\"\"\n",
    "    \n",
    "    \n",
    "    return primeList\n",
    "\n",
    "\n",
    "def getAngles(alpha,d):\n",
    "    \"\"\"\"\"\n",
    "    Inputs: \n",
    "    alpha = 1xd(d-1)/2 array defining position on grand tour\n",
    "    d = dimensions of data\n",
    "    Outputs a dxd array of angles required for the transformation\n",
    "    \"\"\"\n",
    "    theta = np.zeros((d,d));\n",
    "    i = 0;\n",
    "    k = 0;\n",
    "    \n",
    "    while i < d-1:\n",
    "        j = i + 1;\n",
    "        \n",
    "        while j < d:\n",
    "            theta[i][j] = alpha[k];\n",
    "            j += 1;\n",
    "            k += 1;\n",
    "    \n",
    "        i+= 1;\n",
    "        \n",
    "    return theta;\n",
    "\n",
    "\n",
    "def RotationMatrix(i, j, d, theta):\n",
    "    \"\"\"\n",
    "    Inputs:\n",
    "    i = first indicie of rotating plane\n",
    "    j = second indicie of rotating plane\n",
    "    d = dimensions of data\n",
    "    theta = dxd array of angle of rotation of rotating plane\n",
    "    Outputs a rotating matrix to rotate plane of ixj plane by theta_ij\n",
    "    \"\"\"\n",
    "    R = np.identity(d)\n",
    "    R[i,i] = np.cos(theta)\n",
    "    R[i,j] = -1*np.sin(theta)\n",
    "    R[j,i] = np.sin(theta)\n",
    "    R[j,j] = np.cos(theta)\n",
    "    return R\n",
    "\n",
    "\n",
    "def BetaFn(d, theta):\n",
    "    \"\"\"\n",
    "    Inputs:\n",
    "    d = dimensions of data\n",
    "    theta = dxd array of angle of rotation ixj plane\n",
    "    Outputs the full matrix transformation for all rotations\n",
    "    \"\"\"\n",
    "    b = RotationMatrix(1, 2, d, theta[1,2])\n",
    "    i = 1\n",
    "    j = 2\n",
    "    for i in range(d):\n",
    "        for j in range(d):\n",
    "            if j <= i:\n",
    "                continue\n",
    "            if i==1 and j==2:\n",
    "                continue\n",
    "            b = np.matmul(b, RotationMatrix(i, j, d, theta[i,j]))\n",
    "            \n",
    "    return b\n",
    "\n",
    "\n",
    "def GrandTour(data, nSteps):\n",
    "    \"\"\"\n",
    "    Inputs:\n",
    "    data = array of data points, dimensions x npoints\n",
    "    Outputs a 3D array number of points x t x dimensions, where t\n",
    "    the time step at that point in the tour\n",
    "    \"\"\"\n",
    "\n",
    "    d = np.shape(data)[0] #dimensions of data\n",
    "    nPoints = np.shape(data)[1] #number of data points\n",
    "    tData = np.zeros((nSteps,d,nPoints)) #initialise 3d matrix to store stransforemd data at each timestep\n",
    "    tBeta = np.zeros((nSteps,d,d))\n",
    "    Alpha = getAlpha(d)\n",
    "\n",
    "    \n",
    "    for t in range(0, nSteps):\n",
    "        \n",
    "        \n",
    "        alpha = Alpha.dot(t)\n",
    "        theta = getAngles(alpha, d)\n",
    "        b = BetaFn(d, theta)\n",
    "        a = np.matmul(b, data)\n",
    "        tData[t,:,:] = a\n",
    "        tBeta[t,:,:] = b\n",
    "        \n",
    "    return tData, tBeta\n",
    "\n",
    "\n",
    "tData, tBeta = GrandTour(data, nSteps)\n"
   ]
  },
  {
   "cell_type": "code",
   "execution_count": 5,
   "metadata": {},
   "outputs": [],
   "source": [
    "targetData = np.zeros((len(tData[0][0]), 3))\n",
    "for counter, i in enumerate(classification):\n",
    "    targetData[counter][int(i-1)] = 1\n"
   ]
  },
  {
   "cell_type": "code",
   "execution_count": 7,
   "metadata": {},
   "outputs": [
    {
     "data": {
      "text/plain": [
       "'for i in range(iterations):\\n\\n    if i % 10 == 0 and i != 0:\\n        current_time = time.clock() - start\\n        time_left = (float(current_time) / i) * (iterations - i)\\n        print(\"Time elapsed: \" + str(current_time))\\n        print(\"Timestep: \" + str(i) + \" out of \" + str(iterations))\\n        print(\"Approximately \" + str(int(time_left)) + \" seconds left\")\\n        \\n    tf.reset_default_graph()\\n\\n    xData = tData[i][0]\\n    yData = tData[i][1]\\n    trainingData = np.vstack((xData, yData)).T\\n    # NN model code\\n    model = tf.keras.models.Sequential()\\n    model.add(tf.keras.layers.Dense(10, activation=tf.nn.relu))\\n    #model.add(tf.keras.layers.Dense(10, activation=tf.nn.relu))\\n    model.add(tf.keras.layers.Dense(3, activation=tf.nn.softmax))\\n\\n    model.compile(optimizer=\\'adam\\',\\n                 loss=\\'categorical_crossentropy\\',\\n                 metrics=[\\'accuracy\\'])\\n    nnet = model.fit(trainingData, targetData, epochs=35, batch_size=1)\\n    accuracy.append(np.mean(nnet.history[\"acc\"]))\\n    \\nx = list(range(0, len(accuracy)))'"
      ]
     },
     "execution_count": 7,
     "metadata": {},
     "output_type": "execute_result"
    }
   ],
   "source": [
    "import time\n",
    "\n",
    "accuracy = []\n",
    "\n",
    "start = time.clock()\n",
    "\n",
    "init_op = tf.global_variables_initializer()\n",
    "\n",
    "\n",
    "    \n",
    "iterations = 1000\n",
    "\n",
    "for i in range(iterations):\n",
    "\n",
    "    if i % 10 == 0 and i != 0:\n",
    "        current_time = time.clock() - start\n",
    "        time_left = (float(current_time) / i) * (iterations - i)\n",
    "        print(\"Time elapsed: \" + str(current_time))\n",
    "        print(\"Timestep: \" + str(i) + \" out of \" + str(iterations))\n",
    "        print(\"Approximately \" + str(int(time_left)) + \" seconds left\")\n",
    "        \n",
    "    tf.reset_default_graph()\n",
    "\n",
    "    xData = tData[i][0]\n",
    "    yData = tData[i][1]\n",
    "    trainingData = np.vstack((xData, yData)).T\n",
    "    # NN model code\n",
    "    model = tf.keras.models.Sequential()\n",
    "    model.add(tf.keras.layers.Dense(10, activation=tf.nn.relu))\n",
    "    #model.add(tf.keras.layers.Dense(10, activation=tf.nn.relu))\n",
    "    model.add(tf.keras.layers.Dense(3, activation=tf.nn.softmax))\n",
    "\n",
    "    model.compile(optimizer='adam',\n",
    "                 loss='categorical_crossentropy',\n",
    "                 metrics=['accuracy'])\n",
    "    nnet = model.fit(trainingData, targetData, epochs=35, batch_size=1)\n",
    "    accuracy.append(np.mean(nnet.history[\"acc\"]))\n",
    "    \n",
    "x = list(range(0, len(accuracy)))"
   ]
  },
  {
   "cell_type": "code",
   "execution_count": 28,
   "metadata": {},
   "outputs": [
    {
     "name": "stdout",
     "output_type": "stream",
     "text": [
      "max accuracy of: 0.9598715890850723, at timestep: 481\n"
     ]
    },
    {
     "data": {
      "image/png": "[encoded data removed]",
      "text/plain": [
       "<Figure size 432x288 with 1 Axes>"
      ]
     },
     "metadata": {
      "needs_background": "light"
     },
     "output_type": "display_data"
    }
   ],
   "source": [
    "new = plt.figure()\n",
    "plt.plot(x, accuracy, \"-\", marker=\"None\")\n",
    "\n",
    "max_accuracy = max(accuracy)\n",
    "acc = max_accuracy\n",
    "max_accuracy = [i for i, j in enumerate(accuracy) if j == max_accuracy]\n",
    "max_accuracy = max_accuracy[0]\n",
    "print(\"max accuracy of: \" + str(acc) + \", at timestep: \" + str(max_accuracy))"
   ]
  },
  {
   "cell_type": "code",
   "execution_count": 33,
   "metadata": {},
   "outputs": [],
   "source": [
    "import pandas as pd \n",
    "df = pd.DataFrame(accuracy)\n",
    "#df.to_csv(\"file_path.csv\")\n",
    "df.to_csv(\"/home/dom/Documents/MPhys/TheGrandTour/NNAcc.csv\")"
   ]
  },
  {
   "cell_type": "code",
   "execution_count": null,
   "metadata": {},
   "outputs": [],
   "source": [
    "tf.reset_default_graph()\n",
    "\n",
    "# points that fill the space to show decision boundary\n",
    "xy_points = []\n",
    "for i in range(100):\n",
    "    for j in range(100):\n",
    "        x = (2 * i - 100) / 100\n",
    "        y = (2 * j - 100) / 100\n",
    "        xy_points.append([x, y])\n",
    "        \n",
    "print(len(xy_points))\n",
    "xy_points = np.asarray(xy_points)\n",
    "predictions = []\n",
    "\n",
    "\n",
    "with tf.Session() as sess:\n",
    "    xData = tData[484][0]\n",
    "    yData = tData[484][1]\n",
    "    trainingData = np.vstack((xData, yData)).T\n",
    "    \n",
    "    print(trainingData.shape)\n",
    "    \n",
    "    # NN model code\n",
    "    model = tf.keras.models.Sequential()\n",
    "    model.add(tf.keras.layers.Dense(10, activation=tf.nn.relu))\n",
    "    #model.add(tf.keras.layers.Dense(10, activation=tf.nn.relu))\n",
    "    model.add(tf.keras.layers.Dense(3, activation=tf.nn.softmax))\n",
    "\n",
    "    model.compile(optimizer='adam',\n",
    "                 loss='categorical_crossentropy',\n",
    "                 metrics=['accuracy'])\n",
    "    nnet = model.fit(trainingData, targetData, epochs=100)\n",
    "    print(np.mean(nnet.history[\"acc\"]))\n",
    "    \n",
    "    test = np.zeros((1,2))\n",
    "    print(test.shape)\n",
    "\n",
    "    predictions = model.predict(xy_points)\n",
    "    "
   ]
  },
  {
   "cell_type": "code",
   "execution_count": 12,
   "metadata": {
    "scrolled": false
   },
   "outputs": [
    {
     "data": {
      "application/vnd.jupyter.widget-view+json": {
       "model_id": "fb5145816f2b434eaf4ec2111669bd2e",
       "version_major": 2,
       "version_minor": 0
      },
      "text/plain": [
       "interactive(children=(FloatSlider(value=1.0, description='timestep', max=999.0, step=1.0), Button(description=…"
      ]
     },
     "metadata": {},
     "output_type": "display_data"
    },
    {
     "data": {
      "text/plain": [
       "<function __main__.plot_func(timestep)>"
      ]
     },
     "execution_count": 12,
     "metadata": {},
     "output_type": "execute_result"
    }
   ],
   "source": [
    "import ipywidgets as widgets\n",
    "from ipywidgets import interact, interactive, fixed, interact_manual\n",
    "\n",
    "xy_points = []\n",
    "for i in range(100):\n",
    "    for j in range(100):\n",
    "        x = (2 * i - 100) / 100\n",
    "        y = (2 * j - 100) / 100\n",
    "        xy_points.append([x, y])\n",
    "        \n",
    "xy_points = np.asarray(xy_points)\n",
    "\n",
    "def plot_func(timestep):\n",
    "    with tf.Session() as sess:\n",
    "        # format input data\n",
    "        xData = tData[int(timestep)][0]\n",
    "        yData = tData[int(timestep)][1]\n",
    "        trainingData = np.vstack((xData, yData)).T\n",
    "\n",
    "        # NN model code\n",
    "        model = tf.keras.models.Sequential()\n",
    "        model.add(tf.keras.layers.Dense(10, activation=tf.nn.relu))\n",
    "        #model.add(tf.keras.layers.Dense(10, activation=tf.nn.relu))\n",
    "        model.add(tf.keras.layers.Dense(3, activation=tf.nn.softmax))\n",
    "\n",
    "        model.compile(optimizer='adam',\n",
    "                     loss='categorical_crossentropy',\n",
    "                     metrics=['accuracy'])\n",
    "        \n",
    "        batch_size = 1\n",
    "        nnet = model.fit(trainingData, targetData, batch_size=batch_size, epochs=50, verbose=0)\n",
    "        \n",
    "        print(\"batch size: \" + str(batch_size))\n",
    "        print(\"accuracy measures on each epoch: \" + str(nnet.history[\"acc\"]))\n",
    "        print(\"timestep: \" + str(int(timestep)))\n",
    "        print(\"accuracy: \" + str((nnet.history[\"acc\"][-1])))\n",
    "        \n",
    "        print(\"type: \" + str(type(xy_points)))\n",
    "        print(xy_points.shape)\n",
    "        \n",
    "        predictions = model.predict(xy_points)   \n",
    "        predictionmax = []\n",
    "        a = predictions.tolist()\n",
    "        for i in range(len(a)):\n",
    "            predictionmax.append(a[i].index(max(a[i])) + 1)\n",
    "        \n",
    "        data_colour = []\n",
    "        for i in range(len(predictionmax)):\n",
    "            if predictionmax[i] == 1:\n",
    "                data_colour.append(\"r\")\n",
    "            elif predictionmax[i] == 2:\n",
    "                data_colour.append(\"b\")\n",
    "            elif predictionmax[i] == 3:\n",
    "                data_colour.append(\"g\")\n",
    "        \n",
    "        x, y = zip(*xy_points)\n",
    "\n",
    "        plt.figure(figsize=(12, 8))\n",
    "        plt.scatter(x, y, color = data_colour)\n",
    "        plt.show()\n",
    "        \n",
    "        \n",
    "interact_manual(plot_func, timestep = widgets.FloatSlider(value = 1,\n",
    "                                                   min = 0,\n",
    "                                                   max = iterations - 1,\n",
    "                                                   step = 1))"
   ]
  },
  {
   "cell_type": "markdown",
   "metadata": {},
   "source": [
    "Contour version of ^"
   ]
  },
  {
   "cell_type": "code",
   "execution_count": 86,
   "metadata": {
    "scrolled": false
   },
   "outputs": [
    {
     "data": {
      "application/vnd.jupyter.widget-view+json": {
       "model_id": "3800b0a29aa546328014b02929792422",
       "version_major": 2,
       "version_minor": 0
      },
      "text/plain": [
       "interactive(children=(FloatSlider(value=1.0, description='timestep', max=999.0, step=1.0), Button(description=…"
      ]
     },
     "metadata": {},
     "output_type": "display_data"
    },
    {
     "data": {
      "text/plain": [
       "<function __main__.plot_func(timestep)>"
      ]
     },
     "execution_count": 86,
     "metadata": {},
     "output_type": "execute_result"
    }
   ],
   "source": [
    "import matplotlib.lines as mlines\n",
    "\n",
    "\n",
    "plt.close()\n",
    "def plot_func(timestep):\n",
    "    with tf.Session() as sess:\n",
    "        # format input data\n",
    "        xData = tData[int(timestep)][0]\n",
    "        yData = tData[int(timestep)][1]\n",
    "        trainingData = np.vstack((xData, yData)).T\n",
    "\n",
    "        # NN model code\n",
    "        model = tf.keras.models.Sequential()\n",
    "        model.add(tf.keras.layers.Dense(10, activation=tf.nn.relu))\n",
    "        model.add(tf.keras.layers.Dense(3, activation=tf.nn.softmax))\n",
    "\n",
    "        model.compile(optimizer='adam',\n",
    "                     loss='categorical_crossentropy',\n",
    "                     metrics=['accuracy'])\n",
    "        \n",
    "        batch_size = 1\n",
    "        nnet = model.fit(trainingData, targetData, batch_size=batch_size, epochs=50, verbose=0)\n",
    "        \n",
    "        print(\"batch size: \" + str(batch_size))\n",
    "        print(\"accuracy measures on each epoch: \" + str(nnet.history[\"acc\"]))\n",
    "        print(\"timestep: \" + str(int(timestep)))\n",
    "        print(\"accuracy: \" + str((nnet.history[\"acc\"][-1])))\n",
    "            \n",
    "        # plot contours    \n",
    "        x = np.arange(-1.5, 1.5, 0.01)\n",
    "        y = np.arange(-1.5, 1.5, 0.01)\n",
    "        xx, yy = np.meshgrid(x, y)\n",
    "        \n",
    "        xy = []\n",
    "        for i in range(len(x)):\n",
    "            for j in range(len(y)):\n",
    "                #xy.append([x[i], y[j]])\n",
    "                xy.append([y[j], x[i]]) # <- this way works \n",
    "        xy = np.array(xy)\n",
    "                \n",
    "        predictions = model.predict(xy)  \n",
    "        predictionmax = []\n",
    "        a = predictions.tolist()\n",
    "        for i in range(len(a)):\n",
    "            predictionmax.append(a[i].index(max(a[i])) + 1)\n",
    "\n",
    "        z = np.reshape(predictionmax, (len(x),len(y)))\n",
    "        \n",
    "        plt.figure(figsize=(12, 8))\n",
    "\n",
    "        plt.contourf(xx, yy, z, colors = (\"r\", \"b\", \"g\"), \n",
    "                     levels = 2)\n",
    "\n",
    "        # plot data\n",
    "        for i in range(len(xData)):\n",
    "            formatted_data = [[xData[i], yData[i]]]\n",
    "            prediction = model.predict(np.array(formatted_data))\n",
    "            a = prediction.tolist()\n",
    "            prediction = a[0].index(max(a[0])) + 1\n",
    "            \n",
    "            if int(prediction) == classification[i]:\n",
    "                plt.scatter(xData[i], yData[i], color = 'black', marker = data_marker[i])\n",
    "            else:\n",
    "                plt.scatter(xData[i], yData[i], color = data_colour[i], marker = data_marker[i])\n",
    "        blue_patch = mlines.Line2D([], [], color='blue', marker='o', linestyle=\"\")\n",
    "        green_patch = mlines.Line2D([], [], color='green', marker='*', linestyle=\"\")\n",
    "        red_patch = mlines.Line2D([], [], color='red', marker='x', linestyle=\"\")\n",
    "\n",
    "        xmax, xmin = (max(xData) + 0.1, min(xData) - 0.1)\n",
    "        ymax, ymin = (max(yData) + 0.1, min(yData) - 0.1)\n",
    "\n",
    "        plt.xlim(xmin, xmax)\n",
    "        plt.ylim(ymin, ymax)\n",
    "\n",
    "        plt.legend(handles=[blue_patch, red_patch, green_patch])\n",
    "\n",
    "\n",
    "        plt.show()\n",
    "        \n",
    "        \n",
    "interact_manual(plot_func, timestep = widgets.FloatSlider(value = 1,\n",
    "                                                   min = 0,\n",
    "                                                   max = iterations - 1,\n",
    "                                                   step = 1))"
   ]
  },
  {
   "cell_type": "code",
   "execution_count": null,
   "metadata": {},
   "outputs": [],
   "source": [
    "tester = [[0, 0]]\n",
    "tester = np.array(tester)\n",
    "model.predict(tester)"
   ]
  },
  {
   "cell_type": "code",
   "execution_count": 15,
   "metadata": {},
   "outputs": [
    {
     "data": {
      "text/plain": [
       "array([[1, 1]])"
      ]
     },
     "execution_count": 15,
     "metadata": {},
     "output_type": "execute_result"
    }
   ],
   "source": [
    "np.asarray([1, 1]).reshape((1,2))"
   ]
  },
  {
   "cell_type": "code",
   "execution_count": 79,
   "metadata": {},
   "outputs": [],
   "source": [
    "x = np.arange(0, 150, 1)\n",
    "y = np.arange(0, 150, 1)\n",
    "xx, yy = np.meshgrid(x, y)\n",
    "\n",
    "xy = []\n",
    "for i in range(len(x)):\n",
    "    for j in range(len(y)):\n",
    "        xy.append([str(x[i])+\", \"+str(y[j])])\n",
    "\n",
    "xy = np.array(xy)\n",
    "\n",
    "\n",
    "\n",
    "\n",
    "z = np.reshape(xy, (len(x), len(y)))\n"
   ]
  },
  {
   "cell_type": "code",
   "execution_count": 84,
   "metadata": {},
   "outputs": [
    {
     "name": "stdout",
     "output_type": "stream",
     "text": [
      "x=149, y=33, z=149, 33\n"
     ]
    }
   ],
   "source": [
    "xc, yc = 149, 33\n",
    "\n",
    "print(\"x=\" + str(xc) + \", y=\" + str(yc) + \", z=\" + str(z[xc][yc]))"
   ]
  },
  {
   "cell_type": "code",
   "execution_count": null,
   "metadata": {},
   "outputs": [],
   "source": []
  }
 ],
 "metadata": {
  "kernelspec": {
   "display_name": "Python 3",
   "language": "python",
   "name": "python3"
  },
  "language_info": {
   "codemirror_mode": {
    "name": "ipython",
    "version": 3
   },
   "file_extension": ".py",
   "mimetype": "text/x-python",
   "name": "python",
   "nbconvert_exporter": "python",
   "pygments_lexer": "ipython3",
   "version": "3.5.2"
  }
 },
 "nbformat": 4,
 "nbformat_minor": 2
}
