{
 "cells": [
  {
   "cell_type": "code",
   "execution_count": null,
   "metadata": {
    "collapsed": true
   },
   "outputs": [],
   "source": [
    "def GrandTour(data, nsteps):\n",
    "    \n",
    "    d = np.size(data)[1] #dimensions of data\n",
    "    nPoints = np.size(data)[0] #number of data points\n",
    "    tData = np.zeros((d, nPoints, nsteps)) #initialise 3d matrix to store stransforemd data at each timestep\n",
    "    \n",
    "    alpha = getAlpha()"
   ]
  }
 ],
 "metadata": {
  "kernelspec": {
   "display_name": "Python 3",
   "language": "python",
   "name": "python3"
  },
  "language_info": {
   "codemirror_mode": {
    "name": "ipython",
    "version": 3
   },
   "file_extension": ".py",
   "mimetype": "text/x-python",
   "name": "python",
   "nbconvert_exporter": "python",
   "pygments_lexer": "ipython3",
   "version": "3.6.3"
  }
 },
 "nbformat": 4,
 "nbformat_minor": 2
}
