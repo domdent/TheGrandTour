{
 "cells": [
  {
   "cell_type": "code",
   "execution_count": 5,
   "metadata": {
    "scrolled": false
   },
   "outputs": [],
   "source": [
    "\n",
    "import numpy as np\n",
    "import pandas as pd\n",
    "import time\n",
    "from sklearn.svm import SVC,LinearSVC\n",
    "from sklearn.multiclass import OneVsRestClassifier\n",
    "nPoints = 2000\n",
    "data = np.zeros((4,nPoints))\n"
   ]
  },
  {
   "cell_type": "code",
   "execution_count": 4,
   "metadata": {},
   "outputs": [],
   "source": [
    "#Tesseract\n",
    "a = 100\n",
    "nPoints = 32*a\n",
    "data = np.zeros((4,nPoints))\n",
    "b = np.arange(0,32*a)\n",
    "b = b % a\n",
    "b = b.dot(2/a) - 1\n",
    "for i in range(8*a):\n",
    "    data[0,i] = b[i]\n",
    "    data[1,i] = (-1)**(i // (a) % 2)\n",
    "    data[2,i] = (-1)**(i // (2*a) % 2)\n",
    "    data[3,i] = (-1)**(i // (4*a) % 2)\n",
    "for i in range(8*a,16*a):\n",
    "    data[1,i] = b[i]\n",
    "    data[2,i] = (-1)**(i // (a) % 2)\n",
    "    data[3,i] = (-1)**(i // (2*a) % 2)\n",
    "    data[0,i] = (-1)**(i // (4*a) % 2)\n",
    "for i in range(16*a,24*a):\n",
    "    data[2,i] = b[i]\n",
    "    data[3,i] = (-1)**(i // (a) % 2)\n",
    "    data[0,i] = (-1)**(i // (2*a) % 2)\n",
    "    data[1,i] = (-1)**(i // (4*a) % 2)\n",
    "for i in range(24*a,32*a):\n",
    "    data[3,i] = b[i]\n",
    "    data[0,i] = (-1)**(i // (a) % 2)\n",
    "    data[1,i] = (-1)**(i // (2*a) % 2)\n",
    "    data[2,i] = (-1)**(i // (4*a) % 2)"
   ]
  },
  {
   "cell_type": "code",
   "execution_count": 2,
   "metadata": {},
   "outputs": [],
   "source": [
    "#Sphere\n",
    "nPoints = 5000\n",
    "data = np.zeros((3,nPoints))\n",
    "b = 2*np.pi*np.random.uniform(0,1,2)\n",
    "for i in range(0,nPoints):\n",
    "    a = b*i\n",
    "    data[0,i] = np.sin(a[0])*np.cos(a[1])\n",
    "    data[1,i] = np.sin(a[0])*np.sin(a[1])\n",
    "    data[2,i] = np.cos(a[0])"
   ]
  },
  {
   "cell_type": "code",
   "execution_count": 6,
   "metadata": {},
   "outputs": [],
   "source": [
    "#Clifford Torus\n",
    "b = 2*np.pi*np.random.uniform(0,1,2)\n",
    "for i in range(0,nPoints):\n",
    "    a = b*i\n",
    "    data[:,i] = (np.cos(a[0]),np.sin(a[0]),np.cos(a[1]),np.sin(a[1]))"
   ]
  },
  {
   "cell_type": "code",
   "execution_count": 2,
   "metadata": {},
   "outputs": [],
   "source": [
    "#Klein Bottle random distribution\n",
    "\n",
    "r = 1\n",
    "p = 1\n",
    "e = 0.01\n",
    "for i in range(0,nPoints):\n",
    "    a = 2*np.pi*np.random.uniform(0,1,2)\n",
    "    data[0,i] = r*(np.cos(a[0]/2)*np.cos(a[1]) - np.sin(a[0]/2)*np.sin(2*a[1]))\n",
    "    data[1,i] = r*(np.sin(a[0]/2)*np.cos(a[1]) + np.cos(a[0]/2)*np.sin(2*a[1]))\n",
    "    data[2,i] = p*np.cos(a[0])*(1 + e*np.sin(a[1]))\n",
    "    data[3,i] = p*np.sin(a[0])*(1 + e*np.sin(a[1]))"
   ]
  },
  {
   "cell_type": "code",
   "execution_count": 3,
   "metadata": {},
   "outputs": [],
   "source": [
    "#Klein Bottle\n",
    "r = 1\n",
    "p = 1\n",
    "e = 0.01\n",
    "b = 2*np.pi*np.random.uniform(0,1,2)*0.1\n",
    "for i in range(0,nPoints):\n",
    "    a = b*i\n",
    "    data[0,i] = r*(np.cos(a[0]/2)*np.cos(a[1]) - np.sin(a[0]/2)*np.sin(2*a[1]))\n",
    "    data[1,i] = r*(np.sin(a[0]/2)*np.cos(a[1]) + np.cos(a[0]/2)*np.sin(2*a[1]))\n",
    "    data[2,i] = p*np.cos(a[0])*(1 + e*np.sin(a[1]))\n",
    "    data[3,i] = p*np.sin(a[0])*(1 + e*np.sin(a[1]))"
   ]
  },
  {
   "cell_type": "code",
   "execution_count": 7,
   "metadata": {},
   "outputs": [],
   "source": [
    "#VARIABLES\n",
    "nSteps = 1000\n",
    "stepSize =0.05\n",
    "def getAlpha(d,stepSize):\n",
    "    \"\"\"\n",
    "    NEEDS IMPLEMENTATION\n",
    "    Should produce 1xd(d-1)/2 array of position in grand tour.\n",
    "\n",
    "    \"\"\"\n",
    "    p = d*(d-1)/2     \n",
    "    primeList = []\n",
    "    count = 1\n",
    "    while len(primeList) < p:\n",
    "        count += 1\n",
    "        primeBool = False\n",
    "        for i in range(2, count - 1):\n",
    "            if count % i == 0:\n",
    "                primeBool = True\n",
    "        if primeBool == False:\n",
    "            irrational = (np.sqrt(count)%1)\n",
    "            primeList.append(irrational)\n",
    "\n",
    "    primeList = np.asarray(primeList)\n",
    "    primeList = primeList.dot(stepSize)\n",
    "    \"\"\"\n",
    "    Irrational number generation using exponentials, not being used\n",
    "    p = int(d*(d-1)/2)\n",
    "    alpha = np.zeros(p) #alpha(t) parameters defining grand tour in G2,d\n",
    "\n",
    "    for i in range(0,p):\n",
    "        alpha[i] = (np.exp(i) % 1) * 2 * np.pi\n",
    "        \n",
    "    alpha = alpha.dot(0.001)\n",
    "    \"\"\"\n",
    "    \n",
    "    return primeList\n",
    "\n",
    "\n",
    "def getAngles(alpha,d):\n",
    "    \"\"\"\"\"\n",
    "    Inputs: \n",
    "    alpha = 1xd(d-1)/2 array defining position on grand tour\n",
    "    d = dimensions of data\n",
    "    Outputs a dxd array of angles required for the transformation\n",
    "    \"\"\"\n",
    "    theta = np.zeros((d,d));\n",
    "    i = 0;\n",
    "    k = 0;\n",
    "    \n",
    "    while i < d-1:\n",
    "        j = i + 1;\n",
    "        \n",
    "        while j < d:\n",
    "            theta[i][j] = alpha[k];\n",
    "            j += 1;\n",
    "            k += 1;\n",
    "    \n",
    "        i+= 1;\n",
    "        \n",
    "    return theta;\n",
    "\n",
    "\n",
    "def RotationMatrix(i, j, d, theta):\n",
    "    \"\"\"\n",
    "    Inputs:\n",
    "    i = first indicie of rotating plane\n",
    "    j = second indicie of rotating plane\n",
    "    d = dimensions of data\n",
    "    theta = dxd array of angle of rotation of rotating plane\n",
    "\n",
    "    Outputs a rotating matrix to rotate plane of ixj plane by theta_ij\n",
    "    \"\"\"\n",
    "    R = np.identity(d)\n",
    "    R[i,i] = np.cos(theta)\n",
    "    R[i,j] = -1*np.sin(theta)\n",
    "    R[j,i] = np.sin(theta)\n",
    "    R[j,j] = np.cos(theta)\n",
    "    return R\n",
    "\n",
    "\n",
    "def BetaFn(d, theta):\n",
    "    \"\"\"\n",
    "    Inputs:\n",
    "    d = dimensions of data\n",
    "    theta = dxd array of angle of rotation ixj plane\n",
    "\n",
    "    Outputs the full matrix transformation for all rotations\n",
    "    \"\"\"\n",
    "    b = RotationMatrix(1, 2, d, theta[1,2])\n",
    "    i = 1\n",
    "    j = 2\n",
    "    for i in range(d):\n",
    "        for j in range(d):\n",
    "            if j <= i:\n",
    "                continue\n",
    "            if i==1 and j==2:\n",
    "                continue\n",
    "            b = np.matmul(b, RotationMatrix(i, j, d, theta[i,j]))\n",
    "            \n",
    "    return b\n",
    "\n",
    "\n",
    "def GrandTour(data, nSteps,stepSize):\n",
    "    \"\"\"\n",
    "    Inputs:\n",
    "    data = array of data points, dimensions x npoints\n",
    "    Outputs a 3D array number of points x t x dimensions, where t\n",
    "    the time step at that point in the tour\n",
    "    \"\"\"\n",
    "\n",
    "    d = np.shape(data)[0] #dimensions of data\n",
    "    nPoints = np.shape(data)[1] #number of data points\n",
    "    tData = np.zeros((nSteps,d,nPoints)) #initialise 3d matrix to store stransforemd data at each timestep\n",
    "    tBeta = np.zeros((nSteps,d,d))\n",
    "    Alpha = getAlpha(d,stepSize)\n",
    "\n",
    "    \n",
    "    for t in range(0, nSteps):\n",
    "        \n",
    "        \n",
    "        alpha = Alpha.dot(t)\n",
    "        theta = getAngles(alpha, d)\n",
    "        b = BetaFn(d, theta)\n",
    "        a = np.matmul(b, data)\n",
    "        tData[t,:,:] = a\n",
    "        tBeta[t,:,:] = b\n",
    "        \n",
    "    return tData\n",
    "\n",
    "def Transform(data,alpha):\n",
    "    d = np.shape(data)[0]\n",
    "    theta = getAngles(alpha,d)\n",
    "    b = BetaFn(d,theta)\n",
    "    a = np.matmul(b,data)\n",
    "    return a\n",
    "\n",
    "\n",
    "def singleAlphaRotation(data,nSteps):\n",
    "    \"\"\"\n",
    "    Alters a single parameter in the alpha vector \n",
    "    does a 2pi rotation\n",
    "    \"\"\"\n",
    "    d = np.shape(data)[0] #dimensions of data\n",
    "    nPoints = np.shape(data)[1] #number of data points\n",
    "    A = np.zeros((nSteps,d,nPoints))\n",
    "    alpha = getAlpha(d, 1)\n",
    "    print(alpha)\n",
    "    dAlpha = alpha.dot(0)\n",
    "    p = int(d*(d-1)/2)\n",
    "    tData = np.zeros((0,d,nPoints))\n",
    "    \n",
    "    \n",
    "    for j in range(0,p):\n",
    "        \n",
    "        dAlpha = alpha.dot(0)\n",
    "        dAlpha[j] = np.pi * 2 /nSteps\n",
    "\n",
    "        for i in range(0,100):\n",
    "            alpha = alpha + dAlpha\n",
    "            a = Transform(data,alpha)\n",
    "            A[i] = a\n",
    "            i += 1\n",
    "        tData = np.append(tData,A,axis = 0)\n",
    "        j+=1\n",
    "    \n",
    "    return tData\n",
    "\n",
    "tData = GrandTour(data,nSteps,stepSize)\n"
   ]
  },
  {
   "cell_type": "code",
   "execution_count": null,
   "metadata": {},
   "outputs": [],
   "source": [
    "from pyqtgraph.Qt import QtGui, QtCore\n",
    "import pandas as pd\n",
    "import pyqtgraph as pg\n",
    "import time\n",
    "\n",
    "\n",
    "app = QtGui.QApplication([])\n",
    "mw = QtGui.QMainWindow()\n",
    "mw.resize(800,800)\n",
    "view = pg.GraphicsLayoutWidget()  ## GraphicsView with GraphicsLayout inserted by default\n",
    "mw.setCentralWidget(view)\n",
    "mw.show()\n",
    "mw.setWindowTitle('pyqtgraph example: ScatterPlot')\n",
    "\n",
    "## create four areas to add plots\n",
    "w1 = view.addPlot()\n",
    "\n",
    "\n",
    "## There are a few different ways we can draw scatter plots; each is optimized for different types of data:\n",
    "\n",
    "\n",
    "## 1) All spots identical and transform-invariant (top-left plot). \n",
    "## In this case we can get a huge performance boost by pre-rendering the spot \n",
    "## image and just drawing that image repeatedly.\n",
    "nPoints = np.shape(tData)[2]\n",
    "s1 = pg.ScatterPlotItem(size=10, pen=pg.mkPen(None), brush=pg.mkBrush(0, 227, 17,120))\n",
    "pos = np.zeros((2,nPoints))\n",
    "j = 0\n",
    "pos[0,:] = tData[j,0,:]\n",
    "pos[1,:] = tData[j,1,:]\n",
    "spots = [{'pos': pos[:,i], 'data': 1} for i in range(nPoints)]\n",
    "s1.addPoints(spots)\n",
    "w1.addItem(s1)\n",
    "\n",
    "def update():\n",
    "    global j\n",
    "    j += 1\n",
    "    if j > np.shape(tData)[0]-1:\n",
    "        j = 0\n",
    "    pos[0,:] = tData[j,0,:]\n",
    "    pos[1,:] = tData[j,1,:]\n",
    "    spots = [{'pos': pos[:,i], 'data': 1} for i in range(nPoints)]\n",
    "    s1.setData(spots)\n",
    "\n",
    "t = QtCore.QTimer()\n",
    "t.timeout.connect(update)\n",
    "t.start(10)\n",
    "\n",
    "## 2) Spots are transform-invariant, but not identical (top-right plot). \n",
    "## In this case, drawing is almsot as fast as 1), but there is more startup \n",
    "## overhead and memory usage since each spot generates its own pre-rendered \n",
    "## image.\n",
    "\n",
    "\n",
    "\n",
    "## Start Qt event loop unless running in interactive mode.\n",
    "if __name__ == '__main__':\n",
    "    import sys\n",
    "    if (sys.flags.interactive != 1) or not hasattr(QtCore, 'PYQT_VERSION'):\n",
    "        QtGui.QApplication.instance().exec_()\n",
    "\n"
   ]
  },
  {
   "cell_type": "code",
   "execution_count": 9,
   "metadata": {},
   "outputs": [
    {
     "name": "stdout",
     "output_type": "stream",
     "text": [
      "Collecting pyqtgraph\n",
      "\u001b[?25l  Downloading https://files.pythonhosted.org/packages/cd/ad/307e0280df5c19986c4206d138ec3a8954afc722cea991f4adb4a16337d9/pyqtgraph-0.10.0.tar.gz (1.5MB)\n",
      "\u001b[K    100% |████████████████████████████████| 1.6MB 9.1MB/s eta 0:00:01\n",
      "\u001b[?25hRequirement already satisfied: numpy in /anaconda3/lib/python3.7/site-packages (from pyqtgraph) (1.15.4)\n",
      "Building wheels for collected packages: pyqtgraph\n",
      "  Running setup.py bdist_wheel for pyqtgraph ... \u001b[?25ldone\n",
      "\u001b[?25h  Stored in directory: /Users/karanmukhi/Library/Caches/pip/wheels/93/a2/de/184ecdefdb91d760706d02389015dfa3b96e927eb1c42ace37\n",
      "Successfully built pyqtgraph\n",
      "Installing collected packages: pyqtgraph\n",
      "Successfully installed pyqtgraph-0.10.0\n"
     ]
    }
   ],
   "source": [
    "!pip install pyqtgraph"
   ]
  },
  {
   "cell_type": "code",
   "execution_count": 14,
   "metadata": {},
   "outputs": [
    {
     "name": "stdout",
     "output_type": "stream",
     "text": [
      "[0.41421356 0.73205081 0.23606798]\n",
      "[4.14213562 7.32050808 2.36067977]\n"
     ]
    }
   ],
   "source": [
    "p = d*(d-1)/2     \n",
    "primeList = []\n",
    "count = 1\n",
    "while len(primeList) < p:\n",
    "    count += 1\n",
    "    primeBool = False\n",
    "    for i in range(2, count - 1):\n",
    "        if count % i == 0:\n",
    "            primeBool = True\n",
    "    if primeBool == False:\n",
    "        irrational = (np.sqrt(count)%1)\n",
    "        primeList.append(irrational)\n",
    "\n",
    "primeList = np.asarray(primeList)\n",
    "print(primeList)\n",
    "primeList = primeList.dot(stepSize)\n",
    "print(primeList)"
   ]
  },
  {
   "cell_type": "code",
   "execution_count": 4,
   "metadata": {},
   "outputs": [],
   "source": []
  },
  {
   "cell_type": "code",
   "execution_count": 5,
   "metadata": {},
   "outputs": [],
   "source": [
    "\n",
    "    "
   ]
  },
  {
   "cell_type": "code",
   "execution_count": null,
   "metadata": {},
   "outputs": [],
   "source": []
  },
  {
   "cell_type": "code",
   "execution_count": 69,
   "metadata": {},
   "outputs": [
    {
     "data": {
      "text/plain": [
       "array([-1.  , -0.96, -0.92, ...,  0.88,  0.92,  0.96])"
      ]
     },
     "execution_count": 69,
     "metadata": {},
     "output_type": "execute_result"
    }
   ],
   "source": [
    "b\n"
   ]
  },
  {
   "cell_type": "code",
   "execution_count": 61,
   "metadata": {},
   "outputs": [
    {
     "data": {
      "text/plain": [
       "1"
      ]
     },
     "execution_count": 61,
     "metadata": {},
     "output_type": "execute_result"
    }
   ],
   "source": [
    "(-1)**0"
   ]
  },
  {
   "cell_type": "code",
   "execution_count": 45,
   "metadata": {},
   "outputs": [
    {
     "data": {
      "text/plain": [
       "0"
      ]
     },
     "execution_count": 45,
     "metadata": {},
     "output_type": "execute_result"
    }
   ],
   "source": [
    "2%1"
   ]
  },
  {
   "cell_type": "code",
   "execution_count": null,
   "metadata": {},
   "outputs": [],
   "source": []
  }
 ],
 "metadata": {
  "kernelspec": {
   "display_name": "Python 3",
   "language": "python",
   "name": "python3"
  },
  "language_info": {
   "codemirror_mode": {
    "name": "ipython",
    "version": 3
   },
   "file_extension": ".py",
   "mimetype": "text/x-python",
   "name": "python",
   "nbconvert_exporter": "python",
   "pygments_lexer": "ipython3",
   "version": "3.7.1"
  }
 },
 "nbformat": 4,
 "nbformat_minor": 2
}
