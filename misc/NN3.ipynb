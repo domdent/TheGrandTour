{
 "cells": [
  {
   "cell_type": "code",
   "execution_count": 1,
   "metadata": {},
   "outputs": [],
   "source": [
    "import torch\n",
    "import torch.nn as nn\n",
    "import numpy as np\n",
    "import pandas as pd"
   ]
  },
  {
   "cell_type": "code",
   "execution_count": 2,
   "metadata": {},
   "outputs": [],
   "source": [
    "df = pd.read_csv(\"/home/dom/Documents/MPhys/TheGrandTour/wine_data.txt\", sep=\"\\t\");\n",
    "data = np.array(df);\n",
    "data = np.delete(data, 0, 0)\n",
    "data = data.astype(float)\n",
    "data = np.swapaxes(data,0,1)\n",
    "\n",
    "\n",
    "classification = data[13]\n",
    "data = np.delete(data, 13, axis=0)\n",
    "# Normalizes the data        \n",
    "for i in range(0, np.shape(data)[0]):\n",
    "    data[i,:] = (data[i,:] / np.ndarray.max(data[i,:])) * 2 - 1"
   ]
  },
  {
   "cell_type": "code",
   "execution_count": 7,
   "metadata": {},
   "outputs": [],
   "source": [
    "targetData = np.zeros((len(data[0]), 3))\n",
    "for counter, i in enumerate(classification):\n",
    "    targetData[counter][int(i-1)] = 1\n"
   ]
  },
  {
   "cell_type": "code",
   "execution_count": 12,
   "metadata": {},
   "outputs": [
    {
     "data": {
      "text/plain": [
       "tensor([[ 0.7802, -0.3862,  0.3251,  ...,  0.2281,  0.7000,  0.2500],\n",
       "        [ 0.7748, -0.1862,  0.6533,  ...,  0.2047,  0.5850,  0.4107],\n",
       "        [ 0.9380, -0.3276,  0.5480,  ...,  0.0058,  0.7250,  0.7619],\n",
       "        ...,\n",
       "        [ 0.7896,  0.4759,  0.3994,  ..., -0.3099, -0.2200, -0.0060],\n",
       "        [ 0.7761, -0.1069,  0.4675,  ..., -0.2982, -0.1900,  0.0000],\n",
       "        [ 0.9056,  0.4138,  0.6966,  ..., -0.2865, -0.2000, -0.3333]],\n",
       "       dtype=torch.float64)"
      ]
     },
     "execution_count": 12,
     "metadata": {},
     "output_type": "execute_result"
    }
   ],
   "source": [
    "x = torch.from_numpy(data)\n",
    "y = torch.from_numpy(targetData)\n",
    "x.transpose_(0, 1)\n"
   ]
  },
  {
   "cell_type": "code",
   "execution_count": 13,
   "metadata": {},
   "outputs": [
    {
     "name": "stdout",
     "output_type": "stream",
     "text": [
      "torch.Size([177, 13])\n",
      "torch.Size([177, 3])\n"
     ]
    }
   ],
   "source": [
    "print(x.size())\n",
    "print(y.size())"
   ]
  },
  {
   "cell_type": "code",
   "execution_count": null,
   "metadata": {},
   "outputs": [],
   "source": [
    "class Neural_Network(nn.Module):\n",
    "    def __init__(self, x, y, hidden_nodes=10):\n",
    "        self.hidden_nodes = hidden_nodes # number of nodes in each layer (not inc. bias)\n",
    "        self.x = x # input data \n",
    "        self.y = y # target data\n",
    "        self.w1 = torch.randn(self.num_nodes, x.size()[1] + 1)\n",
    "        self.w2 = torch.randn(y.size()[1], self.num_nodes + 1)\n",
    "\n",
    "               \n",
    "    def sigmoid(self, x):\n",
    "        return 1 / (1 + torch.exp(-x))\n",
    "        \n",
    "    def sigmoidPrime(self, x)\n",
    "        return x * (1 - x)\n",
    "    \n",
    "    def forward(self, x):\n",
    "        self.z1 = torch.matmul(self.w1, x)\n",
    "        self.a1 = self.sigmoid(self.z)\n",
    "        self.z2 = torch.matmul(self.w2, )\n",
    "        \n",
    "    \n",
    "    \n",
    "    \n",
    "    \n",
    "    \n",
    "    \n",
    "    \n",
    "    \n",
    "    \n",
    "    \n",
    "    \n",
    "    "
   ]
  },
  {
   "cell_type": "code",
   "execution_count": 8,
   "metadata": {},
   "outputs": [],
   "source": [
    "import torch\n",
    "x = torch.randn(1, 2, 1)\n",
    "y = torch.randn(3, 4, 1)\n",
    "z = torch.randn(5, 6, 1)\n"
   ]
  },
  {
   "cell_type": "code",
   "execution_count": 10,
   "metadata": {},
   "outputs": [
    {
     "ename": "RuntimeError",
     "evalue": "invalid argument 0: Sizes of tensors must match except in dimension 2. Got 1 and 3 in dimension 0 at /pytorch/aten/src/TH/generic/THTensorMath.cpp:3616",
     "output_type": "error",
     "traceback": [
      "\u001b[0;31m---------------------------------------------------------------------------\u001b[0m",
      "\u001b[0;31mRuntimeError\u001b[0m                              Traceback (most recent call last)",
      "\u001b[0;32m<ipython-input-10-ce6021a33843>\u001b[0m in \u001b[0;36m<module>\u001b[0;34m\u001b[0m\n\u001b[0;32m----> 1\u001b[0;31m \u001b[0mw\u001b[0m \u001b[0;34m=\u001b[0m \u001b[0mtorch\u001b[0m\u001b[0;34m.\u001b[0m\u001b[0mcat\u001b[0m\u001b[0;34m(\u001b[0m\u001b[0;34m(\u001b[0m\u001b[0mx\u001b[0m\u001b[0;34m,\u001b[0m \u001b[0my\u001b[0m\u001b[0;34m,\u001b[0m \u001b[0mz\u001b[0m\u001b[0;34m)\u001b[0m\u001b[0;34m,\u001b[0m \u001b[0mdim\u001b[0m\u001b[0;34m=\u001b[0m\u001b[0;36m2\u001b[0m\u001b[0;34m)\u001b[0m\u001b[0;34m\u001b[0m\u001b[0m\n\u001b[0m",
      "\u001b[0;31mRuntimeError\u001b[0m: invalid argument 0: Sizes of tensors must match except in dimension 2. Got 1 and 3 in dimension 0 at /pytorch/aten/src/TH/generic/THTensorMath.cpp:3616"
     ]
    }
   ],
   "source": [
    "w = torch.cat((x, y, z), dim=2)"
   ]
  },
  {
   "cell_type": "code",
   "execution_count": 9,
   "metadata": {},
   "outputs": [
    {
     "name": "stdout",
     "output_type": "stream",
     "text": [
      "tensor([[[ 0.5030],\n",
      "         [-0.9748]]])\n",
      "--------\n",
      "tensor([[[-0.4020],\n",
      "         [ 0.4924],\n",
      "         [-0.3642],\n",
      "         [-0.4512]],\n",
      "\n",
      "        [[-0.9332],\n",
      "         [-0.5699],\n",
      "         [-0.8318],\n",
      "         [-0.5172]],\n",
      "\n",
      "        [[ 0.1323],\n",
      "         [ 0.6076],\n",
      "         [-0.0779],\n",
      "         [-1.4012]]])\n",
      "--------\n",
      "tensor([[[ 0.4226],\n",
      "         [-0.7153],\n",
      "         [-1.0910],\n",
      "         [-0.7419],\n",
      "         [ 0.7639],\n",
      "         [ 1.0207]],\n",
      "\n",
      "        [[ 1.5074],\n",
      "         [ 0.8015],\n",
      "         [-0.2620],\n",
      "         [-0.0466],\n",
      "         [-1.6500],\n",
      "         [-0.2469]],\n",
      "\n",
      "        [[ 1.4133],\n",
      "         [-0.0205],\n",
      "         [ 0.2990],\n",
      "         [ 0.5569],\n",
      "         [ 0.1971],\n",
      "         [-1.6539]],\n",
      "\n",
      "        [[-0.2641],\n",
      "         [ 1.3734],\n",
      "         [ 0.5504],\n",
      "         [-0.7450],\n",
      "         [ 0.7423],\n",
      "         [-0.0800]],\n",
      "\n",
      "        [[-1.2155],\n",
      "         [-0.0283],\n",
      "         [-0.2870],\n",
      "         [ 1.2559],\n",
      "         [-0.7488],\n",
      "         [-0.0230]]])\n",
      "--------\n"
     ]
    }
   ],
   "source": [
    "print(x)\n",
    "print(\"--------\")\n",
    "print(y)\n",
    "print(\"--------\")\n",
    "print(z)\n",
    "print(\"--------\")"
   ]
  },
  {
   "cell_type": "code",
   "execution_count": 5,
   "metadata": {},
   "outputs": [
    {
     "data": {
      "text/plain": [
       "tensor([[ 0.3302, -0.2194,  0.0752,  1.9084, -0.3012, -0.9315],\n",
       "        [-0.8804,  0.1797, -1.1256, -0.5432, -0.3351, -0.5285],\n",
       "        [ 1.0745,  0.3769,  0.2922, -1.0382, -1.1002,  0.4179],\n",
       "        [ 0.9122,  0.1097, -0.4777,  0.1887, -0.4481,  0.0565],\n",
       "        [-0.7248,  0.6019,  0.9330, -1.2040, -0.1286,  1.2716]])"
      ]
     },
     "execution_count": 5,
     "metadata": {},
     "output_type": "execute_result"
    }
   ],
   "source": [
    "z"
   ]
  },
  {
   "cell_type": "code",
   "execution_count": null,
   "metadata": {},
   "outputs": [],
   "source": []
  }
 ],
 "metadata": {
  "kernelspec": {
   "display_name": "Python 3",
   "language": "python",
   "name": "python3"
  },
  "language_info": {
   "codemirror_mode": {
    "name": "ipython",
    "version": 3
   },
   "file_extension": ".py",
   "mimetype": "text/x-python",
   "name": "python",
   "nbconvert_exporter": "python",
   "pygments_lexer": "ipython3",
   "version": "3.5.2"
  }
 },
 "nbformat": 4,
 "nbformat_minor": 2
}
