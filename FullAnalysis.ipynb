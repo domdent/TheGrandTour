{
 "cells": [
  {
   "cell_type": "markdown",
   "metadata": {},
   "source": [
    "# The Grand Tour Alogrithm and Applications to Machine Learning"
   ]
  },
  {
   "cell_type": "markdown",
   "metadata": {},
   "source": [
    "Libraries used in this analysis:"
   ]
  },
  {
   "cell_type": "code",
   "execution_count": 1,
   "metadata": {},
   "outputs": [],
   "source": [
    "import numpy as np\n",
    "import pandas as pd\n",
    "import time\n",
    "import sklearn\n",
    "import ipywidgets as widgets\n",
    "import tensorflow as tf\n",
    "import tensorflow.keras as keras\n",
    "import matplotlib.pyplot as plt\n",
    "import matplotlib.lines as mlines\n",
    "\n",
    "from ipywidgets import interact, interactive, fixed, interact_manual\n",
    "from mlxtend.plotting import plot_decision_regions\n",
    "from sklearn.multiclass import OneVsRestClassifier\n",
    "from sklearn.svm import SVC, LinearSVC\n",
    "from sklearn.tree import DecisionTreeClassifier \n",
    "\n",
    "%matplotlib inline\n",
    "%matplotlib notebook"
   ]
  },
  {
   "cell_type": "markdown",
   "metadata": {},
   "source": [
    "Read in the data, by giving the path (& change seperator if needed):"
   ]
  },
  {
   "cell_type": "code",
   "execution_count": 2,
   "metadata": {},
   "outputs": [],
   "source": [
    "path = \"/home/dom/Documents/MPhys/TheGrandTour/wine_data.txt\"\n",
    "readdata = pd.read_csv(path, sep=\"\\t\", header=None);"
   ]
  },
  {
   "cell_type": "markdown",
   "metadata": {},
   "source": [
    "Now seperate out the classification feature from the data, and then make the classes."
   ]
  },
  {
   "cell_type": "code",
   "execution_count": 3,
   "metadata": {},
   "outputs": [],
   "source": [
    "data = np.array(readdata);\n",
    "data = np.delete(data, 0, 0)\n",
    "data = data.astype(float)\n",
    "data = np.swapaxes(data,0,1)\n",
    "\n",
    "\n",
    "# Need to seperate the classification dimension:\n",
    "classification = data[13]\n",
    "data = np.delete(data, 13, axis=0)\n",
    "\n",
    "\n",
    "# make list of colours for each number:\n",
    "data_colour = []\n",
    "data_marker = []\n",
    "for i in range(len(classification)):\n",
    "    if classification[i] == 1:\n",
    "        data_colour.append(\"r\")\n",
    "        data_marker.append(\"x\")\n",
    "    elif classification[i] == 2:\n",
    "        data_colour.append(\"b\")\n",
    "        data_marker.append(\"o\")\n",
    "    elif classification[i] == 3:\n",
    "        data_colour.append(\"g\")\n",
    "        data_marker.append(\"*\")\n",
    "\n",
    "# Normalizes the data        \n",
    "for i in range(0, np.shape(data)[0]):\n",
    "    data[i,:] = (data[i,:] / np.ndarray.max(data[i,:])) * 2 - 1\n",
    "    "
   ]
  },
  {
   "cell_type": "markdown",
   "metadata": {},
   "source": [
    "Set the number of timesteps for the grand tour and the step size."
   ]
  },
  {
   "cell_type": "code",
   "execution_count": 4,
   "metadata": {},
   "outputs": [],
   "source": [
    "# Variables\n",
    "stepSize = 0.01\n",
    "nSteps = 1000"
   ]
  },
  {
   "cell_type": "markdown",
   "metadata": {},
   "source": [
    "The cell below contains the functions used in the grand tour, and then calculates the data for the grand tour."
   ]
  },
  {
   "cell_type": "code",
   "execution_count": 5,
   "metadata": {},
   "outputs": [],
   "source": [
    "def getAlpha(d):\n",
    "    \"\"\"\n",
    "    NEEDS IMPLEMENTATION\n",
    "    Should produce 1xd(d-1)/2 array of position in grand tour.\n",
    "    \"\"\"\n",
    "    p = d*(d-1)/2     \n",
    "    primeList = []\n",
    "    count = 1\n",
    "    while len(primeList) < p:\n",
    "        count += 1\n",
    "        primeBool = False\n",
    "        for i in range(2, count - 1):\n",
    "            if count % i == 0:\n",
    "                primeBool = True\n",
    "        if primeBool == False:\n",
    "            irrational = (np.sqrt(count)%1)\n",
    "            primeList.append(irrational)\n",
    "            \n",
    "    primeList = np.asarray(primeList)\n",
    "    primeList = primeList.dot(stepSize)\n",
    "    \"\"\"\n",
    "    Irrational number generation using exponentials, not being used\n",
    "    p = int(d*(d-1)/2)\n",
    "    alpha = np.zeros(p) #alpha(t) parameters defining grand tour in G2,d\n",
    "    for i in range(0,p):\n",
    "        alpha[i] = (np.exp(i) % 1) * 2 * np.pi\n",
    "        \n",
    "    alpha = alpha.dot(0.001)\n",
    "    \"\"\"\n",
    "    \n",
    "    \n",
    "    return primeList\n",
    "\n",
    "\n",
    "def getAngles(alpha,d):\n",
    "    \"\"\"\"\"\n",
    "    Inputs: \n",
    "    alpha = 1xd(d-1)/2 array defining position on grand tour\n",
    "    d = dimensions of data\n",
    "    Outputs a dxd array of angles required for the transformation\n",
    "    \"\"\"\n",
    "    theta = np.zeros((d,d));\n",
    "    i = 0;\n",
    "    k = 0;\n",
    "    \n",
    "    while i < d-1:\n",
    "        j = i + 1;\n",
    "        \n",
    "        while j < d:\n",
    "            theta[i][j] = alpha[k];\n",
    "            j += 1;\n",
    "            k += 1;\n",
    "    \n",
    "        i+= 1;\n",
    "        \n",
    "    return theta;\n",
    "\n",
    "\n",
    "def RotationMatrix(i, j, d, theta):\n",
    "    \"\"\"\n",
    "    Inputs:\n",
    "    i = first indicie of rotating plane\n",
    "    j = second indicie of rotating plane\n",
    "    d = dimensions of data\n",
    "    theta = dxd array of angle of rotation of rotating plane\n",
    "    Outputs a rotating matrix to rotate plane of ixj plane by theta_ij\n",
    "    \"\"\"\n",
    "    R = np.identity(d)\n",
    "    R[i,i] = np.cos(theta)\n",
    "    R[i,j] = -1*np.sin(theta)\n",
    "    R[j,i] = np.sin(theta)\n",
    "    R[j,j] = np.cos(theta)\n",
    "    return R\n",
    "\n",
    "\n",
    "def BetaFn(d, theta):\n",
    "    \"\"\"\n",
    "    Inputs:\n",
    "    d = dimensions of data\n",
    "    theta = dxd array of angle of rotation ixj plane\n",
    "    Outputs the full matrix transformation for all rotations\n",
    "    \"\"\"\n",
    "    b = RotationMatrix(1, 2, d, theta[1,2])\n",
    "    i = 1\n",
    "    j = 2\n",
    "    for i in range(d):\n",
    "        for j in range(d):\n",
    "            if j <= i:\n",
    "                continue\n",
    "            if i==1 and j==2:\n",
    "                continue\n",
    "            b = np.matmul(b, RotationMatrix(i, j, d, theta[i,j]))\n",
    "            \n",
    "    return b\n",
    "\n",
    "\n",
    "def GrandTour(data, nSteps):\n",
    "    \"\"\"\n",
    "    Inputs:\n",
    "    data = array of data points, dimensions x npoints\n",
    "    Outputs a 3D array number of points x t x dimensions, where t\n",
    "    the time step at that point in the tour\n",
    "    \"\"\"\n",
    "\n",
    "    d = np.shape(data)[0] #dimensions of data\n",
    "    nPoints = np.shape(data)[1] #number of data points\n",
    "    tData = np.zeros((nSteps,d,nPoints)) #initialise 3d matrix to store stransforemd data at each timestep\n",
    "    tBeta = np.zeros((nSteps,d,d))\n",
    "    Alpha = getAlpha(d)\n",
    "\n",
    "    \n",
    "    for t in range(0, nSteps):\n",
    "        \n",
    "        \n",
    "        alpha = Alpha.dot(t)\n",
    "        theta = getAngles(alpha, d)\n",
    "        b = BetaFn(d, theta)\n",
    "        a = np.matmul(b, data)\n",
    "        tData[t,:,:] = a\n",
    "        tBeta[t,:,:] = b\n",
    "        \n",
    "    return tData, tBeta\n",
    "\n",
    "\n",
    "tData, tBeta = GrandTour(data, nSteps)"
   ]
  },
  {
   "cell_type": "markdown",
   "metadata": {},
   "source": [
    "### The Grand Tour:\n",
    "Move the slider to change through the timesteps, or use arrow keys when slider is selected."
   ]
  },
  {
   "cell_type": "code",
   "execution_count": 6,
   "metadata": {},
   "outputs": [
    {
     "data": {
      "application/vnd.jupyter.widget-view+json": {
       "model_id": "8d0241890f8a46cb9ea8c0b4b5c84ef7",
       "version_major": 2,
       "version_minor": 0
      },
      "text/plain": [
       "interactive(children=(FloatSlider(value=1.0, description='timestep', max=999.0, step=1.0), Output()), _dom_cla…"
      ]
     },
     "metadata": {},
     "output_type": "display_data"
    },
    {
     "data": {
      "text/plain": [
       "<function __main__.plot_func(timestep)>"
      ]
     },
     "execution_count": 6,
     "metadata": {},
     "output_type": "execute_result"
    }
   ],
   "source": [
    "def plot_func(timestep):\n",
    "    xData = tData[int(timestep)][0]\n",
    "    yData = tData[int(timestep)][1]\n",
    "    nData = np.vstack((xData, yData)).T\n",
    "\n",
    "    plt.figure(figsize=(12,8))\n",
    "    plt.title(\"The Grand Tour\")\n",
    "    plt.scatter(xData, yData, color = data_colour)\n",
    "    plt.show()\n",
    "    \n",
    "    \n",
    "interact(plot_func, timestep = widgets.FloatSlider(value=1,\n",
    "                                                   min=0,\n",
    "                                                   max=nSteps - 1,\n",
    "                                                   step=1))\n"
   ]
  },
  {
   "cell_type": "markdown",
   "metadata": {},
   "source": [
    "### The grand tour with the SVM boundaries and accuracy score:"
   ]
  },
  {
   "cell_type": "code",
   "execution_count": 7,
   "metadata": {},
   "outputs": [
    {
     "data": {
      "application/vnd.jupyter.widget-view+json": {
       "model_id": "f75f76b858a6404196ecf60ff6cb3ea4",
       "version_major": 2,
       "version_minor": 0
      },
      "text/plain": [
       "interactive(children=(FloatSlider(value=1.0, description='timestep', max=999.0, step=1.0), Button(description=…"
      ]
     },
     "metadata": {},
     "output_type": "display_data"
    },
    {
     "data": {
      "text/plain": [
       "<function __main__.plot_func(timestep)>"
      ]
     },
     "execution_count": 7,
     "metadata": {},
     "output_type": "execute_result"
    }
   ],
   "source": [
    "def plot_func(timestep):\n",
    "    xData = tData[int(timestep)][0]\n",
    "    yData = tData[int(timestep)][1]\n",
    "    nData = np.vstack((xData, yData)).T\n",
    "\n",
    "    #plt.scatter(xData, yData, color = data_colour)\n",
    "    #plt.show()\n",
    "    \n",
    "    clf = OneVsRestClassifier(SVC(kernel='linear'), n_jobs=-1)\n",
    "    clf.fit(nData, classification)\n",
    "    plt.figure(figsize=(12,8))\n",
    "    plot_decision_regions(X=nData, \n",
    "                          y=classification.astype(np.integer),\n",
    "                          clf=clf, \n",
    "                          legend=0)\n",
    "    print(\"SVM accuracy: \" + str(clf.score(nData, classification)))\n",
    "    \n",
    "interact_manual(plot_func, timestep = widgets.FloatSlider(value = 1,\n",
    "                                                   min = 0,\n",
    "                                                   max = nSteps - 1,\n",
    "                                                   step = 1))"
   ]
  },
  {
   "cell_type": "markdown",
   "metadata": {},
   "source": [
    "#### To analyse the SVM lets plot the accuracy of the SVM at each timestep, and also find the max SVM accuracy."
   ]
  },
  {
   "cell_type": "code",
   "execution_count": 8,
   "metadata": {},
   "outputs": [],
   "source": [
    "accuracy = []\n",
    "\n",
    "for i in range(nSteps):\n",
    "    xData = tData[i][0]\n",
    "    yData = tData[i][1]\n",
    "    nData = np.vstack((xData, yData)).T\n",
    "    \n",
    "    clf = OneVsRestClassifier(SVC(kernel='linear'), n_jobs=-1)\n",
    "    clf.fit(nData, classification)\n",
    "    score = clf.score(nData, classification)\n",
    "    accuracy.append(score)\n",
    "\n",
    "x = list(range(0, len(accuracy)))"
   ]
  },
  {
   "cell_type": "code",
   "execution_count": 9,
   "metadata": {},
   "outputs": [
    {
     "data": {
      "image/png": "[encoded data removed]",
      "text/plain": [
       "<Figure size 864x576 with 1 Axes>"
      ]
     },
     "metadata": {
      "needs_background": "light"
     },
     "output_type": "display_data"
    },
    {
     "name": "stdout",
     "output_type": "stream",
     "text": [
      "Max SVM accuracy of: 0.9213483146067416\n",
      "At timestep: 482\n"
     ]
    }
   ],
   "source": [
    "plt.figure(figsize=(12,8))\n",
    "plt.title(\"SVM accuracy at each timestep of the Grand Tour\")\n",
    "plt.plot(list(range(len(accuracy))), accuracy, '-', marker=\" \")\n",
    "plt.show()\n",
    "\n",
    "max_accuracy = [i for i, j in enumerate(accuracy) if j == max(accuracy)]\n",
    "\n",
    "print(\"Max SVM accuracy of: \" + str(max(accuracy)))\n",
    "print(\"At timestep: \" + str(max_accuracy[0]))"
   ]
  },
  {
   "cell_type": "markdown",
   "metadata": {},
   "source": [
    "## Neural Network"
   ]
  },
  {
   "cell_type": "markdown",
   "metadata": {},
   "source": [
    "Need to convert the classification data into a vector with a 1 in the row representing the class"
   ]
  },
  {
   "cell_type": "code",
   "execution_count": 10,
   "metadata": {},
   "outputs": [],
   "source": [
    "# Make a vector for the classification (used for the Neural Network)\n",
    "targetData = np.zeros((len(tData[0][0]), 3))\n",
    "for counter, i in enumerate(classification):\n",
    "    targetData[counter][int(i-1)] = 1"
   ]
  },
  {
   "cell_type": "markdown",
   "metadata": {},
   "source": [
    "Generate points uniformaly covering the 2D plane to show the neural network decision boundary"
   ]
  },
  {
   "cell_type": "code",
   "execution_count": 11,
   "metadata": {},
   "outputs": [],
   "source": [
    "xy_points = []\n",
    "for i in range(100):\n",
    "    for j in range(100):\n",
    "        x = (2 * i - 100) / 100\n",
    "        y = (2 * j - 100) / 100\n",
    "        xy_points.append([x, y])\n",
    "xy_points = np.asarray(xy_points)\n"
   ]
  },
  {
   "cell_type": "markdown",
   "metadata": {},
   "source": [
    "Now run the neural network on a specific timestep by using the slider widget"
   ]
  },
  {
   "cell_type": "code",
   "execution_count": 12,
   "metadata": {},
   "outputs": [
    {
     "data": {
      "application/vnd.jupyter.widget-view+json": {
       "model_id": "6bc24fb029ac4840b8b11d61a8edb360",
       "version_major": 2,
       "version_minor": 0
      },
      "text/plain": [
       "interactive(children=(FloatSlider(value=1.0, description='timestep', max=999.0, step=1.0), Button(description=…"
      ]
     },
     "metadata": {},
     "output_type": "display_data"
    },
    {
     "data": {
      "text/plain": [
       "<function __main__.plot_func(timestep)>"
      ]
     },
     "execution_count": 12,
     "metadata": {},
     "output_type": "execute_result"
    }
   ],
   "source": [
    "plt.close()\n",
    "def plot_func(timestep):\n",
    "    with tf.Session() as sess:\n",
    "        # format input data\n",
    "        xData = tData[int(timestep)][0]\n",
    "        yData = tData[int(timestep)][1]\n",
    "        trainingData = np.vstack((xData, yData)).T\n",
    "\n",
    "        # NN model code\n",
    "        model = tf.keras.models.Sequential()\n",
    "        model.add(tf.keras.layers.Dense(10, activation=tf.nn.relu))\n",
    "        model.add(tf.keras.layers.Dense(3, activation=tf.nn.softmax))\n",
    "\n",
    "        model.compile(optimizer='adam',\n",
    "                     loss='categorical_crossentropy',\n",
    "                     metrics=['accuracy'])\n",
    "        \n",
    "        batch_size = 1\n",
    "        nnet = model.fit(trainingData, targetData, batch_size=batch_size, epochs=50, verbose=0)\n",
    "        \n",
    "        print(\"batch size: \" + str(batch_size))\n",
    "        print(\"accuracy measures on each epoch: \" + str(nnet.history[\"acc\"]))\n",
    "        print(\"timestep: \" + str(int(timestep)))\n",
    "        print(\"accuracy: \" + str((nnet.history[\"acc\"][-1])))\n",
    "            \n",
    "        # plot contours    \n",
    "        x = np.arange(-1.5, 1.5, 0.01)\n",
    "        y = np.arange(-1.5, 1.5, 0.01)\n",
    "        xx, yy = np.meshgrid(x, y)\n",
    "        \n",
    "        xy = []\n",
    "        for i in range(len(x)):\n",
    "            for j in range(len(y)):\n",
    "                #xy.append([x[i], y[j]])\n",
    "                xy.append([y[j], x[i]]) # <- this way works \n",
    "        xy = np.array(xy)\n",
    "                \n",
    "        predictions = model.predict(xy)  \n",
    "        predictionmax = []\n",
    "        a = predictions.tolist()\n",
    "        for i in range(len(a)):\n",
    "            predictionmax.append(a[i].index(max(a[i])) + 1)\n",
    "\n",
    "        z = np.reshape(predictionmax, (len(x),len(y)))\n",
    "        \n",
    "        plt.figure(figsize=(12, 8))\n",
    "\n",
    "        plt.contourf(xx, yy, z, colors = (\"r\", \"b\", \"g\"), \n",
    "                     levels = 2)\n",
    "\n",
    "        # plot data\n",
    "        for i in range(len(xData)):\n",
    "            formatted_data = [[xData[i], yData[i]]]\n",
    "            prediction = model.predict(np.array(formatted_data))\n",
    "            a = prediction.tolist()\n",
    "            prediction = a[0].index(max(a[0])) + 1\n",
    "            \n",
    "            if int(prediction) == classification[i]:\n",
    "                plt.scatter(xData[i], yData[i], color = 'black', marker = data_marker[i])\n",
    "            else:\n",
    "                plt.scatter(xData[i], yData[i], color = data_colour[i], marker = data_marker[i])\n",
    "        blue_patch = mlines.Line2D([], [], color='blue', marker='o', linestyle=\"\")\n",
    "        green_patch = mlines.Line2D([], [], color='green', marker='*', linestyle=\"\")\n",
    "        red_patch = mlines.Line2D([], [], color='red', marker='x', linestyle=\"\")\n",
    "\n",
    "        xmax, xmin = (max(xData) + 0.1, min(xData) - 0.1)\n",
    "        ymax, ymin = (max(yData) + 0.1, min(yData) - 0.1)\n",
    "\n",
    "        plt.xlim(xmin, xmax)\n",
    "        plt.ylim(ymin, ymax)\n",
    "\n",
    "        plt.legend(handles=[blue_patch, red_patch, green_patch])\n",
    "\n",
    "\n",
    "        plt.show()\n",
    "        \n",
    "        \n",
    "interact_manual(plot_func, timestep = widgets.FloatSlider(value = 1,\n",
    "                                                   min = 0,\n",
    "                                                   max = nSteps - 1,\n",
    "                                                   step = 1))"
   ]
  },
  {
   "cell_type": "markdown",
   "metadata": {},
   "source": [
    "Run the neural network across all timesteps to compare accuracy. \n",
    "\n",
    "Note: This may take a long time to run to get an accurate measure of accuracy at each of the timesteps. To speed up this process you can run less epochs but this will have a detremental effect to the accuracy measure"
   ]
  },
  {
   "cell_type": "code",
   "execution_count": 13,
   "metadata": {},
   "outputs": [
    {
     "ename": "KeyboardInterrupt",
     "evalue": "",
     "output_type": "error",
     "traceback": [
      "\u001b[0;31m---------------------------------------------------------------------------\u001b[0m",
      "\u001b[0;31mKeyboardInterrupt\u001b[0m                         Traceback (most recent call last)",
      "\u001b[0;32m<ipython-input-13-5cbc5222de75>\u001b[0m in \u001b[0;36m<module>\u001b[0;34m\u001b[0m\n\u001b[1;32m     28\u001b[0m                  \u001b[0mloss\u001b[0m\u001b[0;34m=\u001b[0m\u001b[0;34m'categorical_crossentropy'\u001b[0m\u001b[0;34m,\u001b[0m\u001b[0;34m\u001b[0m\u001b[0m\n\u001b[1;32m     29\u001b[0m                  metrics=['accuracy'])\n\u001b[0;32m---> 30\u001b[0;31m     \u001b[0mnnet\u001b[0m \u001b[0;34m=\u001b[0m \u001b[0mmodel\u001b[0m\u001b[0;34m.\u001b[0m\u001b[0mfit\u001b[0m\u001b[0;34m(\u001b[0m\u001b[0mtrainingData\u001b[0m\u001b[0;34m,\u001b[0m \u001b[0mtargetData\u001b[0m\u001b[0;34m,\u001b[0m \u001b[0mepochs\u001b[0m\u001b[0;34m=\u001b[0m\u001b[0;36m35\u001b[0m\u001b[0;34m,\u001b[0m \u001b[0mbatch_size\u001b[0m\u001b[0;34m=\u001b[0m\u001b[0;36m1\u001b[0m\u001b[0;34m,\u001b[0m \u001b[0mverbose\u001b[0m\u001b[0;34m=\u001b[0m\u001b[0;36m0\u001b[0m\u001b[0;34m)\u001b[0m\u001b[0;34m\u001b[0m\u001b[0m\n\u001b[0m\u001b[1;32m     31\u001b[0m     \u001b[0maccuracy\u001b[0m\u001b[0;34m.\u001b[0m\u001b[0mappend\u001b[0m\u001b[0;34m(\u001b[0m\u001b[0mnnet\u001b[0m\u001b[0;34m.\u001b[0m\u001b[0mhistory\u001b[0m\u001b[0;34m[\u001b[0m\u001b[0;34m\"acc\"\u001b[0m\u001b[0;34m]\u001b[0m\u001b[0;34m[\u001b[0m\u001b[0;34m-\u001b[0m\u001b[0;36m1\u001b[0m\u001b[0;34m]\u001b[0m\u001b[0;34m)\u001b[0m\u001b[0;34m\u001b[0m\u001b[0m\n\u001b[1;32m     32\u001b[0m \u001b[0;34m\u001b[0m\u001b[0m\n",
      "\u001b[0;32m~/.local/lib/python3.5/site-packages/tensorflow/python/keras/engine/training.py\u001b[0m in \u001b[0;36mfit\u001b[0;34m(self, x, y, batch_size, epochs, verbose, callbacks, validation_split, validation_data, shuffle, class_weight, sample_weight, initial_epoch, steps_per_epoch, validation_steps, max_queue_size, workers, use_multiprocessing, **kwargs)\u001b[0m\n\u001b[1;32m   1637\u001b[0m           \u001b[0minitial_epoch\u001b[0m\u001b[0;34m=\u001b[0m\u001b[0minitial_epoch\u001b[0m\u001b[0;34m,\u001b[0m\u001b[0;34m\u001b[0m\u001b[0m\n\u001b[1;32m   1638\u001b[0m           \u001b[0msteps_per_epoch\u001b[0m\u001b[0;34m=\u001b[0m\u001b[0msteps_per_epoch\u001b[0m\u001b[0;34m,\u001b[0m\u001b[0;34m\u001b[0m\u001b[0m\n\u001b[0;32m-> 1639\u001b[0;31m           validation_steps=validation_steps)\n\u001b[0m\u001b[1;32m   1640\u001b[0m \u001b[0;34m\u001b[0m\u001b[0m\n\u001b[1;32m   1641\u001b[0m   def evaluate(self,\n",
      "\u001b[0;32m~/.local/lib/python3.5/site-packages/tensorflow/python/keras/engine/training_arrays.py\u001b[0m in \u001b[0;36mfit_loop\u001b[0;34m(model, inputs, targets, sample_weights, batch_size, epochs, verbose, callbacks, val_inputs, val_targets, val_sample_weights, shuffle, initial_epoch, steps_per_epoch, validation_steps)\u001b[0m\n\u001b[1;32m    213\u001b[0m           \u001b[0mins_batch\u001b[0m\u001b[0;34m[\u001b[0m\u001b[0mi\u001b[0m\u001b[0;34m]\u001b[0m \u001b[0;34m=\u001b[0m \u001b[0mins_batch\u001b[0m\u001b[0;34m[\u001b[0m\u001b[0mi\u001b[0m\u001b[0;34m]\u001b[0m\u001b[0;34m.\u001b[0m\u001b[0mtoarray\u001b[0m\u001b[0;34m(\u001b[0m\u001b[0;34m)\u001b[0m\u001b[0;34m\u001b[0m\u001b[0m\n\u001b[1;32m    214\u001b[0m \u001b[0;34m\u001b[0m\u001b[0m\n\u001b[0;32m--> 215\u001b[0;31m         \u001b[0mouts\u001b[0m \u001b[0;34m=\u001b[0m \u001b[0mf\u001b[0m\u001b[0;34m(\u001b[0m\u001b[0mins_batch\u001b[0m\u001b[0;34m)\u001b[0m\u001b[0;34m\u001b[0m\u001b[0m\n\u001b[0m\u001b[1;32m    216\u001b[0m         \u001b[0;32mif\u001b[0m \u001b[0;32mnot\u001b[0m \u001b[0misinstance\u001b[0m\u001b[0;34m(\u001b[0m\u001b[0mouts\u001b[0m\u001b[0;34m,\u001b[0m \u001b[0mlist\u001b[0m\u001b[0;34m)\u001b[0m\u001b[0;34m:\u001b[0m\u001b[0;34m\u001b[0m\u001b[0m\n\u001b[1;32m    217\u001b[0m           \u001b[0mouts\u001b[0m \u001b[0;34m=\u001b[0m \u001b[0;34m[\u001b[0m\u001b[0mouts\u001b[0m\u001b[0;34m]\u001b[0m\u001b[0;34m\u001b[0m\u001b[0m\n",
      "\u001b[0;32m~/.local/lib/python3.5/site-packages/tensorflow/python/keras/backend.py\u001b[0m in \u001b[0;36m__call__\u001b[0;34m(self, inputs)\u001b[0m\n\u001b[1;32m   2981\u001b[0m         \u001b[0mfeed_symbols\u001b[0m \u001b[0;34m!=\u001b[0m \u001b[0mself\u001b[0m\u001b[0;34m.\u001b[0m\u001b[0m_feed_symbols\u001b[0m \u001b[0;32mor\u001b[0m \u001b[0mself\u001b[0m\u001b[0;34m.\u001b[0m\u001b[0mfetches\u001b[0m \u001b[0;34m!=\u001b[0m \u001b[0mself\u001b[0m\u001b[0;34m.\u001b[0m\u001b[0m_fetches\u001b[0m \u001b[0;32mor\u001b[0m\u001b[0;34m\u001b[0m\u001b[0m\n\u001b[1;32m   2982\u001b[0m         session != self._session):\n\u001b[0;32m-> 2983\u001b[0;31m       \u001b[0mself\u001b[0m\u001b[0;34m.\u001b[0m\u001b[0m_make_callable\u001b[0m\u001b[0;34m(\u001b[0m\u001b[0mfeed_arrays\u001b[0m\u001b[0;34m,\u001b[0m \u001b[0mfeed_symbols\u001b[0m\u001b[0;34m,\u001b[0m \u001b[0msymbol_vals\u001b[0m\u001b[0;34m,\u001b[0m \u001b[0msession\u001b[0m\u001b[0;34m)\u001b[0m\u001b[0;34m\u001b[0m\u001b[0m\n\u001b[0m\u001b[1;32m   2984\u001b[0m \u001b[0;34m\u001b[0m\u001b[0m\n\u001b[1;32m   2985\u001b[0m     fetched = self._callable_fn(*array_vals,\n",
      "\u001b[0;32m~/.local/lib/python3.5/site-packages/tensorflow/python/keras/backend.py\u001b[0m in \u001b[0;36m_make_callable\u001b[0;34m(self, feed_arrays, feed_symbols, symbol_vals, session)\u001b[0m\n\u001b[1;32m   2926\u001b[0m       \u001b[0mcallable_opts\u001b[0m\u001b[0;34m.\u001b[0m\u001b[0mrun_options\u001b[0m\u001b[0;34m.\u001b[0m\u001b[0mCopyFrom\u001b[0m\u001b[0;34m(\u001b[0m\u001b[0mself\u001b[0m\u001b[0;34m.\u001b[0m\u001b[0mrun_options\u001b[0m\u001b[0;34m)\u001b[0m\u001b[0;34m\u001b[0m\u001b[0m\n\u001b[1;32m   2927\u001b[0m     \u001b[0;31m# Create callable.\u001b[0m\u001b[0;34m\u001b[0m\u001b[0;34m\u001b[0m\u001b[0m\n\u001b[0;32m-> 2928\u001b[0;31m     \u001b[0mcallable_fn\u001b[0m \u001b[0;34m=\u001b[0m \u001b[0msession\u001b[0m\u001b[0;34m.\u001b[0m\u001b[0m_make_callable_from_options\u001b[0m\u001b[0;34m(\u001b[0m\u001b[0mcallable_opts\u001b[0m\u001b[0;34m)\u001b[0m\u001b[0;34m\u001b[0m\u001b[0m\n\u001b[0m\u001b[1;32m   2929\u001b[0m     \u001b[0;31m# Cache parameters corresponding to the generated callable, so that\u001b[0m\u001b[0;34m\u001b[0m\u001b[0;34m\u001b[0m\u001b[0m\n\u001b[1;32m   2930\u001b[0m     \u001b[0;31m# we can detect future mismatches and refresh the callable.\u001b[0m\u001b[0;34m\u001b[0m\u001b[0;34m\u001b[0m\u001b[0m\n",
      "\u001b[0;32m~/.local/lib/python3.5/site-packages/tensorflow/python/client/session.py\u001b[0m in \u001b[0;36m_make_callable_from_options\u001b[0;34m(self, callable_options)\u001b[0m\n\u001b[1;32m   1469\u001b[0m     \"\"\"\n\u001b[1;32m   1470\u001b[0m     \u001b[0mself\u001b[0m\u001b[0;34m.\u001b[0m\u001b[0m_extend_graph\u001b[0m\u001b[0;34m(\u001b[0m\u001b[0;34m)\u001b[0m\u001b[0;34m\u001b[0m\u001b[0m\n\u001b[0;32m-> 1471\u001b[0;31m     \u001b[0;32mreturn\u001b[0m \u001b[0mBaseSession\u001b[0m\u001b[0;34m.\u001b[0m\u001b[0m_Callable\u001b[0m\u001b[0;34m(\u001b[0m\u001b[0mself\u001b[0m\u001b[0;34m,\u001b[0m \u001b[0mcallable_options\u001b[0m\u001b[0;34m)\u001b[0m\u001b[0;34m\u001b[0m\u001b[0m\n\u001b[0m\u001b[1;32m   1472\u001b[0m \u001b[0;34m\u001b[0m\u001b[0m\n\u001b[1;32m   1473\u001b[0m \u001b[0;34m\u001b[0m\u001b[0m\n",
      "\u001b[0;32m~/.local/lib/python3.5/site-packages/tensorflow/python/client/session.py\u001b[0m in \u001b[0;36m__init__\u001b[0;34m(self, session, callable_options)\u001b[0m\n\u001b[1;32m   1423\u001b[0m         \u001b[0;32mwith\u001b[0m \u001b[0merrors\u001b[0m\u001b[0;34m.\u001b[0m\u001b[0mraise_exception_on_not_ok_status\u001b[0m\u001b[0;34m(\u001b[0m\u001b[0;34m)\u001b[0m \u001b[0;32mas\u001b[0m \u001b[0mstatus\u001b[0m\u001b[0;34m:\u001b[0m\u001b[0;34m\u001b[0m\u001b[0m\n\u001b[1;32m   1424\u001b[0m           self._handle = tf_session.TF_SessionMakeCallable(\n\u001b[0;32m-> 1425\u001b[0;31m               session._session, options_ptr, status)\n\u001b[0m\u001b[1;32m   1426\u001b[0m       \u001b[0;32mfinally\u001b[0m\u001b[0;34m:\u001b[0m\u001b[0;34m\u001b[0m\u001b[0m\n\u001b[1;32m   1427\u001b[0m         \u001b[0mtf_session\u001b[0m\u001b[0;34m.\u001b[0m\u001b[0mTF_DeleteBuffer\u001b[0m\u001b[0;34m(\u001b[0m\u001b[0moptions_ptr\u001b[0m\u001b[0;34m)\u001b[0m\u001b[0;34m\u001b[0m\u001b[0m\n",
      "\u001b[0;31mKeyboardInterrupt\u001b[0m: "
     ]
    }
   ],
   "source": [
    "accuracy = []\n",
    "\n",
    "start = time.clock()\n",
    "\n",
    "init_op = tf.global_variables_initializer()\n",
    "\n",
    "iterations = 1000\n",
    "for i in range(iterations):\n",
    "\n",
    "    if i % 10 == 0 and i != 0:\n",
    "        current_time = time.clock() - start\n",
    "        time_left = (float(current_time) / i) * (iterations - i)\n",
    "        print(\"Time elapsed: \" + str(current_time))\n",
    "        print(\"Timestep: \" + str(i) + \" out of \" + str(iterations))\n",
    "        print(\"Approximately \" + str(int(time_left / 60)) + \" minutes left\")\n",
    "        \n",
    "    tf.reset_default_graph()\n",
    "\n",
    "    xData = tData[i][0]\n",
    "    yData = tData[i][1]\n",
    "    trainingData = np.vstack((xData, yData)).T\n",
    "    # NN model code\n",
    "    model = tf.keras.models.Sequential()\n",
    "    model.add(tf.keras.layers.Dense(10, activation=tf.nn.relu))\n",
    "    model.add(tf.keras.layers.Dense(3, activation=tf.nn.softmax))\n",
    "\n",
    "    model.compile(optimizer='adam',\n",
    "                 loss='categorical_crossentropy',\n",
    "                 metrics=['accuracy'])\n",
    "    nnet = model.fit(trainingData, targetData, epochs=35, batch_size=1, verbose=0)\n",
    "    accuracy.append(nnet.history[\"acc\"][-1])\n",
    "    \n",
    "x = list(range(0, len(accuracy)))"
   ]
  },
  {
   "cell_type": "markdown",
   "metadata": {},
   "source": [
    "Now to plot the accuracy measure against each timestep of the grand tour:"
   ]
  },
  {
   "cell_type": "code",
   "execution_count": null,
   "metadata": {},
   "outputs": [],
   "source": [
    "plt.figure(figsize=(12,8))\n",
    "plt.plot(x, accuracy, \"-\", marker=\"None\")\n",
    "plt.show() \n",
    "\n",
    "max_accuracy = max(accuracy)\n",
    "acc = max_accuracy\n",
    "max_accuracy = [i for i, j in enumerate(accuracy) if j == max_accuracy]\n",
    "max_accuracy = max_accuracy[0]\n",
    "print(\"max accuracy of: \" + str(acc) + \", at timestep: \" + str(max_accuracy))"
   ]
  },
  {
   "cell_type": "markdown",
   "metadata": {},
   "source": [
    "## Decision Tree"
   ]
  },
  {
   "cell_type": "markdown",
   "metadata": {},
   "source": [
    "Using a decision tree you can make predictions based on decision branches. We will limit the maximum depth of the branches to stop any overfitting."
   ]
  },
  {
   "cell_type": "markdown",
   "metadata": {},
   "source": [
    "Using the interactive slider, you can select a timestep and the program will return the decision tree at that timestep along with the decision regions."
   ]
  },
  {
   "cell_type": "code",
   "execution_count": 15,
   "metadata": {},
   "outputs": [
    {
     "data": {
      "application/vnd.jupyter.widget-view+json": {
       "model_id": "e609bf512b244129be96cafcd60b1e4e",
       "version_major": 2,
       "version_minor": 0
      },
      "text/plain": [
       "interactive(children=(FloatSlider(value=1.0, description='timestep', max=999.0, step=1.0), Button(description=…"
      ]
     },
     "metadata": {},
     "output_type": "display_data"
    },
    {
     "data": {
      "text/plain": [
       "<function __main__.plot_func(timestep)>"
      ]
     },
     "execution_count": 15,
     "metadata": {},
     "output_type": "execute_result"
    }
   ],
   "source": [
    "classification = np.array(classification)\n",
    "def plot_func(timestep):\n",
    "\n",
    "    # format input data\n",
    "    xData = tData[int(timestep)][0]\n",
    "    yData = tData[int(timestep)][1]\n",
    "    trainingData = np.vstack((xData, yData)).T\n",
    "\n",
    "    \"\"\"    X_train, X_test, y_train, y_test = train_test_split(nData,\n",
    "                                                        classification,\n",
    "                                                        test_size=0.20)\n",
    "    \"\"\"\n",
    "    clf = DecisionTreeClassifier(max_depth=3)\n",
    "    clf.fit(trainingData, classification)\n",
    "\n",
    "    predictions = clf.predict(xy_points) \n",
    "    \n",
    "    y_pred = clf.predict(trainingData)\n",
    "\n",
    "    score = sklearn.metrics.accuracy_score(classification, y_pred)\n",
    "    print(\"accuracy score: \" + str(score))\n",
    "    score = sklearn.metrics.cohen_kappa_score(classification, y_pred)\n",
    "    print(\"cohen kappa score: \" + str(score))\n",
    "\n",
    "    xy_colour = []\n",
    "    for i in range(len(predictions)):\n",
    "        if predictions[i] == 1:\n",
    "            xy_colour.append(\"r\")\n",
    "        elif predictions[i] == 2:\n",
    "            xy_colour.append(\"b\")\n",
    "        elif predictions[i] == 3:\n",
    "            xy_colour.append(\"g\")\n",
    "    \n",
    "    x = np.arange(-1.5, 1.5, 0.01)\n",
    "    y = np.arange(-1.5, 1.5, 0.01)\n",
    "    xx, yy = np.meshgrid(x, y)\n",
    "    z = np.zeros((len(y),len(x)))\n",
    "\n",
    "    for i in range(len(x)):\n",
    "        for j in range(len(y)):\n",
    "            z[j][i] = int(clf.predict([[x[i],y[j]]]))\n",
    "\n",
    "    plt.figure(figsize=(12,8))\n",
    "\n",
    "    plt.contourf(xx, yy, z, colors = (\"r\", \"b\", \"W\", \"g\"), \n",
    "                 levels = 3)\n",
    "    \n",
    "    for i in range(len(xData)):\n",
    "        if int(clf.predict([[xData[i], yData[i]]])) == classification[i]:\n",
    "            plt.scatter(xData[i], yData[i], color = 'black', marker = data_marker[i])\n",
    "        else:\n",
    "            plt.scatter(xData[i], yData[i], color = data_colour[i], marker = data_marker[i])\n",
    "    blue_patch = mlines.Line2D([], [], color='blue', marker='o', linestyle=\"\")\n",
    "    green_patch = mlines.Line2D([], [], color='green', marker='*', linestyle=\"\")\n",
    "    red_patch = mlines.Line2D([], [], color='red', marker='x', linestyle=\"\")\n",
    "    \n",
    "    xmax, xmin = (max(xData) + 0.1, min(xData) - 0.1)\n",
    "    ymax, ymin = (max(yData) + 0.1, min(yData) - 0.1)\n",
    "\n",
    "    plt.xlim(xmin, xmax)\n",
    "    plt.ylim(ymin, ymax)\n",
    "\n",
    "    plt.legend(handles=[blue_patch, red_patch, green_patch])\n",
    "    plt.show()\n",
    "        \n",
    "interact_manual(plot_func, timestep = widgets.FloatSlider(value = 1,\n",
    "                                                   min = 0,\n",
    "                                                   max = 1000 - 1,\n",
    "                                                   step = 1))\n"
   ]
  },
  {
   "cell_type": "code",
   "execution_count": null,
   "metadata": {},
   "outputs": [],
   "source": [
    "type(xy_points)"
   ]
  },
  {
   "cell_type": "code",
   "execution_count": null,
   "metadata": {},
   "outputs": [],
   "source": []
  }
 ],
 "metadata": {
  "kernelspec": {
   "display_name": "Python 3",
   "language": "python",
   "name": "python3"
  },
  "language_info": {
   "codemirror_mode": {
    "name": "ipython",
    "version": 3
   },
   "file_extension": ".py",
   "mimetype": "text/x-python",
   "name": "python",
   "nbconvert_exporter": "python",
   "pygments_lexer": "ipython3",
   "version": "3.5.2"
  }
 },
 "nbformat": 4,
 "nbformat_minor": 2
}
