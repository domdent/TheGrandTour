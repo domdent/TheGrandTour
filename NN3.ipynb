{
 "cells": [
  {
   "cell_type": "code",
   "execution_count": 1,
   "metadata": {},
   "outputs": [],
   "source": [
    "import torch\n",
    "import torch.nn as nn\n",
    "import numpy as np\n",
    "import pandas as pd"
   ]
  },
  {
   "cell_type": "code",
   "execution_count": 2,
   "metadata": {},
   "outputs": [],
   "source": [
    "df = pd.read_csv(\"/home/dom/Documents/MPhys/TheGrandTour/wine_data.txt\", sep=\"\\t\");\n",
    "data = np.array(df);\n",
    "data = np.delete(data, 0, 0)\n",
    "data = data.astype(float)\n",
    "data = np.swapaxes(data,0,1)\n",
    "\n",
    "\n",
    "classification = data[13]\n",
    "data = np.delete(data, 13, axis=0)\n",
    "# Normalizes the data        \n",
    "for i in range(0, np.shape(data)[0]):\n",
    "    data[i,:] = (data[i,:] / np.ndarray.max(data[i,:])) * 2 - 1"
   ]
  },
  {
   "cell_type": "code",
   "execution_count": 7,
   "metadata": {},
   "outputs": [],
   "source": [
    "targetData = np.zeros((len(data[0]), 3))\n",
    "for counter, i in enumerate(classification):\n",
    "    targetData[counter][int(i-1)] = 1\n"
   ]
  },
  {
   "cell_type": "code",
   "execution_count": 12,
   "metadata": {},
   "outputs": [
    {
     "data": {
      "text/plain": [
       "tensor([[ 0.7802, -0.3862,  0.3251,  ...,  0.2281,  0.7000,  0.2500],\n",
       "        [ 0.7748, -0.1862,  0.6533,  ...,  0.2047,  0.5850,  0.4107],\n",
       "        [ 0.9380, -0.3276,  0.5480,  ...,  0.0058,  0.7250,  0.7619],\n",
       "        ...,\n",
       "        [ 0.7896,  0.4759,  0.3994,  ..., -0.3099, -0.2200, -0.0060],\n",
       "        [ 0.7761, -0.1069,  0.4675,  ..., -0.2982, -0.1900,  0.0000],\n",
       "        [ 0.9056,  0.4138,  0.6966,  ..., -0.2865, -0.2000, -0.3333]],\n",
       "       dtype=torch.float64)"
      ]
     },
     "execution_count": 12,
     "metadata": {},
     "output_type": "execute_result"
    }
   ],
   "source": [
    "x = torch.from_numpy(data)\n",
    "y = torch.from_numpy(targetData)\n",
    "x.transpose_(0, 1)\n"
   ]
  },
  {
   "cell_type": "code",
   "execution_count": 13,
   "metadata": {},
   "outputs": [
    {
     "name": "stdout",
     "output_type": "stream",
     "text": [
      "torch.Size([177, 13])\n",
      "torch.Size([177, 3])\n"
     ]
    }
   ],
   "source": [
    "print(x.size())\n",
    "print(y.size())"
   ]
  },
  {
   "cell_type": "code",
   "execution_count": null,
   "metadata": {},
   "outputs": [],
   "source": [
    "class Neural_Network(nn.Module):\n",
    "    def __init__(self, ):\n",
    "        \n",
    "        \n",
    "        \n",
    "    def foward():\n",
    "    "
   ]
  }
 ],
 "metadata": {
  "kernelspec": {
   "display_name": "Python 3",
   "language": "python",
   "name": "python3"
  },
  "language_info": {
   "codemirror_mode": {
    "name": "ipython",
    "version": 3
   },
   "file_extension": ".py",
   "mimetype": "text/x-python",
   "name": "python",
   "nbconvert_exporter": "python",
   "pygments_lexer": "ipython3",
   "version": "3.5.2"
  }
 },
 "nbformat": 4,
 "nbformat_minor": 2
}
